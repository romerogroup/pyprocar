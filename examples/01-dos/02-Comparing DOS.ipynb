{
  "cells": [
    {
      "cell_type": "markdown",
      "metadata": {},
      "source": [
        "# Comparing DOS with PyProcar\n",
        "\n",
        "## Overview\n",
        "\n",
        "The `pyprocar.dosplot()` function is a powerful tool for visualizing density of states (DOS). One of its key features is that it returns matplotlib `Figure` and `Axes` objects when `show=False`, which enables advanced plotting capabilities including comparing multiple DOS curves on the same plot.\n",
        "\n",
        "### What dosplot returns\n",
        "\n",
        "When called with `show=False`, `dosplot()` returns:\n",
        "- `fig`: A matplotlib Figure object containing the entire plot\n",
        "- `ax`: A matplotlib Axes object representing the plotting area\n",
        "\n",
        "### Method for comparing DOS\n",
        "\n",
        "To compare DOS from different sources, calculations, or components:\n",
        "\n",
        "1. **First call**: Use `dosplot()` with `show=False` to generate the initial DOS and capture the `fig` and `ax` objects\n",
        "2. **Subsequent calls**: Pass the `ax` object to additional `dosplot()` calls using the `ax` parameter\n",
        "3. **Final display**: The last call should have `show=True` to display the combined plot\n",
        "\n",
        "This approach allows you to overlay multiple DOS from:\n",
        "- **Different DFT codes** (like VASP and Quantum Espresso)\n",
        "- **Different spin channels** (spin-up vs spin-down)\n",
        "- **Different orbital projections** (s, p, d, f orbitals)\n",
        "- **Different atoms or species** in the same system\n",
        "- **Different calculation parameters** (k-points, functionals, etc.)\n",
        "\n",
        "## Benefits of DOS Comparison\n",
        "\n",
        "Comparing DOS helps you:\n",
        "- **Validate calculations** across different codes\n",
        "- **Understand electronic structure** by comparing different components\n",
        "- **Analyze magnetic properties** by comparing spin channels\n",
        "- **Study orbital contributions** from different atoms or orbital types\n",
        "- **Examine convergence** with different computational parameters"
      ]
    },
    {
      "cell_type": "markdown",
      "metadata": {},
      "source": [
        "## 1. Setup and Data Loading\n",
        "\n",
        "First, we'll import the necessary libraries and download example data. We'll use both spin-polarized and non-spin-polarized data to demonstrate various DOS comparison techniques."
      ]
    },
    {
      "cell_type": "code",
      "execution_count": null,
      "metadata": {},
      "outputs": [
        {
          "name": "stdout",
          "output_type": "stream",
          "text": [
            "Data already exists at C:\\Users\\lllang\\Desktop\\notebooks\\Notebook\\01 - Projects\\Pyprocar\\pyprocar\\examples\\01-dos\\data\\examples\\01-dos\\spin-polarized\n",
            "Data already exists at C:\\Users\\lllang\\Desktop\\notebooks\\Notebook\\01 - Projects\\Pyprocar\\pyprocar\\examples\\01-dos\\data\\examples\\01-dos\\non-spin-polarized\n",
            "Spin-polarized data: C:\\Users\\lllang\\Desktop\\notebooks\\Notebook\\01 - Projects\\Pyprocar\\pyprocar\\examples\\01-dos\\data\\examples\\01-dos\\spin-polarized\n",
            "Non-spin-polarized data: C:\\Users\\lllang\\Desktop\\notebooks\\Notebook\\01 - Projects\\Pyprocar\\pyprocar\\examples\\01-dos\\data\\examples\\01-dos\\non-spin-polarized\n",
            "✅ Data ready for DOS comparison examples!\n"
          ]
        }
      ],
      "source": [
        "# Import required libraries\n",
        "from pathlib import Path\n",
        "import pyprocar\n",
        "\n",
        "CURRENT_DIR = Path(\".\").resolve()\n",
        "\n",
        "# Download both spin-polarized and non-spin-polarized data\n",
        "SPIN_POL_PATH = \"data/examples/dos/spin-polarized\"\n",
        "NON_SPIN_POL_PATH = \"data/examples/dos/non-spin-polarized\"\n",
        "\n",
        "pyprocar.download_from_hf(relpath=SPIN_POL_PATH, output_path=CURRENT_DIR)\n",
        "pyprocar.download_from_hf(relpath=NON_SPIN_POL_PATH, output_path=CURRENT_DIR)\n",
        "\n",
        "SPIN_POL_DATA_DIR = CURRENT_DIR / SPIN_POL_PATH\n",
        "NON_SPIN_POL_DATA_DIR = CURRENT_DIR / NON_SPIN_POL_PATH\n",
        "\n",
        "print(f\"Spin-polarized data: {SPIN_POL_DATA_DIR}\")\n",
        "print(f\"Non-spin-polarized data: {NON_SPIN_POL_DATA_DIR}\")\n",
        "print(\"✅ Data ready for DOS comparison examples!\")"
      ]
    },
    {
      "cell_type": "markdown",
      "metadata": {},
      "source": [
        "## 2. Basic DOS Comparison: Spin Channels\n",
        "\n",
        "Now we'll demonstrate the fundamental DOS comparison technique by comparing spin-up and spin-down channels from the same calculation:\n",
        "\n",
        "1. **Step 1**: Plot the spin-up DOS with `show=False` to capture the `fig` and `ax` objects\n",
        "2. **Step 2**: Plot the spin-down DOS using the same `ax` object with `show=True` to display the combined result\n",
        "\n",
        "This creates a side-by-side comparison of spin channels, which is essential for understanding magnetic properties."
      ]
    },
    {
      "cell_type": "code",
      "execution_count": 2,
      "metadata": {},
      "outputs": [
        {
          "name": "stdout",
          "output_type": "stream",
          "text": [
            "If you want more detailed logs, set verbose to 2 or more\n",
            "____________________________________________________________________________________________________\n",
            " ____        ____\n",
            "|  _ \\ _   _|  _ \\ _ __ ___   ___ __ _ _ __ \n",
            "| |_) | | | | |_) | '__/ _ \\ / __/ _` | '__|\n",
            "|  __/| |_| |  __/| | | (_) | (_| (_| | |   \n",
            "|_|    \\__, |_|   |_|  \\___/ \\___\\__,_|_|\n",
            "       |___/\n",
            "A Python library for electronic structure pre/post-processing.\n",
            "\n",
            "Version 6.4.6 created on Mar 6th, 2025\n",
            "\n",
            "Please cite:\n",
            "- Uthpala Herath, Pedram Tavadze, Xu He, Eric Bousquet, Sobhit Singh, Francisco Muñoz and Aldo Romero.,\n",
            "  PyProcar: A Python library for electronic structure pre/post-processing.,\n",
            "  Computer Physics Communications 251, 107080 (2020).\n",
            "\n",
            "- L. Lang, P. Tavadze, A. Tellez, E. Bousquet, H. Xu, F. Muñoz, N. Vasquez, U. Herath, and A. H. Romero,\n",
            "  Expanding PyProcar for new features, maintainability, and reliability.,\n",
            "  Computer Physics Communications 297, 109063 (2024).\n",
            "\n",
            "Developers:\n",
            "- Francisco Muñoz\n",
            "- Aldo Romero\n",
            "- Sobhit Singh\n",
            "- Uthpala Herath\n",
            "- Pedram Tavadze\n",
            "- Eric Bousquet\n",
            "- Xu He\n",
            "- Reese Boucher\n",
            "- Logan Lang\n",
            "- Freddy Farah\n",
            "    \n",
            "____________________________________________________________________________________________________\n",
            "\n",
            "            There are additional plot options that are defined in a configuration file. \n",
            "            You can change these configurations by passing the keyword argument to the function\n",
            "            To print a list of plot options set print_plot_opts=True\n",
            "\n",
            "            Here is a list modes : plain , parametric , parameteric_line , stack , stack_orbitals , stack_species , overlay , overlay_orbitals , overlay_species\n",
            "____________________________________________________________________________________________________\n",
            "Plotting DOS in plain mode\n",
            "If you want more detailed logs, set verbose to 2 or more\n",
            "____________________________________________________________________________________________________\n",
            " ____        ____\n",
            "|  _ \\ _   _|  _ \\ _ __ ___   ___ __ _ _ __ \n",
            "| |_) | | | | |_) | '__/ _ \\ / __/ _` | '__|\n",
            "|  __/| |_| |  __/| | | (_) | (_| (_| | |   \n",
            "|_|    \\__, |_|   |_|  \\___/ \\___\\__,_|_|\n",
            "       |___/\n",
            "A Python library for electronic structure pre/post-processing.\n",
            "\n",
            "Version 6.4.6 created on Mar 6th, 2025\n",
            "\n",
            "Please cite:\n",
            "- Uthpala Herath, Pedram Tavadze, Xu He, Eric Bousquet, Sobhit Singh, Francisco Muñoz and Aldo Romero.,\n",
            "  PyProcar: A Python library for electronic structure pre/post-processing.,\n",
            "  Computer Physics Communications 251, 107080 (2020).\n",
            "\n",
            "- L. Lang, P. Tavadze, A. Tellez, E. Bousquet, H. Xu, F. Muñoz, N. Vasquez, U. Herath, and A. H. Romero,\n",
            "  Expanding PyProcar for new features, maintainability, and reliability.,\n",
            "  Computer Physics Communications 297, 109063 (2024).\n",
            "\n",
            "Developers:\n",
            "- Francisco Muñoz\n",
            "- Aldo Romero\n",
            "- Sobhit Singh\n",
            "- Uthpala Herath\n",
            "- Pedram Tavadze\n",
            "- Eric Bousquet\n",
            "- Xu He\n",
            "- Reese Boucher\n",
            "- Logan Lang\n",
            "- Freddy Farah\n",
            "    \n",
            "____________________________________________________________________________________________________\n",
            "\n",
            "            There are additional plot options that are defined in a configuration file. \n",
            "            You can change these configurations by passing the keyword argument to the function\n",
            "            To print a list of plot options set print_plot_opts=True\n",
            "\n",
            "            Here is a list modes : plain , parametric , parameteric_line , stack , stack_orbitals , stack_species , overlay , overlay_orbitals , overlay_species\n",
            "____________________________________________________________________________________________________\n",
            "Plotting DOS in plain mode\n"
          ]
        },
        {
          "data": {
            "image/png": "[encoded data removed]",
            "text/plain": [
              "<Figure size 900x600 with 1 Axes>"
            ]
          },
          "metadata": {},
          "output_type": "display_data"
        },
        {
          "name": "stdout",
          "output_type": "stream",
          "text": [
            "🧲 Spin comparison: Blue = spin-up, Red = spin-down\n"
          ]
        }
      ],
      "source": [
        "# Step 1: Plot spin-up DOS and capture fig, ax objects\n",
        "fig, ax = pyprocar.dosplot(\n",
        "    code=\"vasp\",\n",
        "    dirname=SPIN_POL_DATA_DIR,\n",
        "    mode=\"plain\",\n",
        "    fermi=5.3017,\n",
        "    elimit=[-6, 4],\n",
        "    spins=[0],  # Spin-up channel\n",
        "    color=\"blue\",\n",
        "    show=False,  # Don't show yet, capture the axes\n",
        ")\n",
        "\n",
        "# Step 2: Plot spin-down DOS on the same axes\n",
        "pyprocar.dosplot(\n",
        "    code=\"vasp\",\n",
        "    dirname=SPIN_POL_DATA_DIR,\n",
        "    mode=\"plain\",\n",
        "    fermi=5.3017,\n",
        "    elimit=[-6, 4],\n",
        "    spins=[1],  # Spin-down channel\n",
        "    color=\"red\",\n",
        "    ax=ax,  # Use the same axes from spin-up plot\n",
        "    show=True,  # Show the combined plot\n",
        ")\n",
        "\n",
        "print(\"🧲 Spin comparison: Blue = spin-up, Red = spin-down\")"
      ]
    }
  ],
  "metadata": {
    "kernelspec": {
      "display_name": "pyprocar",
      "language": "python",
      "name": "python3"
    },
    "language_info": {
      "codemirror_mode": {
        "name": "ipython",
        "version": 3
      },
      "file_extension": ".py",
      "mimetype": "text/x-python",
      "name": "python",
      "nbconvert_exporter": "python",
      "pygments_lexer": "ipython3",
      "version": "3.10.18"
    },
    "nbsphinx": {
      "execute": "never"
    }
  },
  "nbformat": 4,
  "nbformat_minor": 4
}
