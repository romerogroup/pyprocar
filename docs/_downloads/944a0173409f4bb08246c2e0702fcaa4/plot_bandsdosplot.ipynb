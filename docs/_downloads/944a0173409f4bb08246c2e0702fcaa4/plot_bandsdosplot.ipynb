{
  "cells": [
    {
      "cell_type": "markdown",
      "metadata": {},
      "source": [
        "\n\n# Plotting bandsdosplot\n\nPlotting bandsdosplot example.\n\nFirst download the example files with the code below. Then replace data_dir below.\n\n.. code-block::\n   :caption: Downloading example\n\n   bands_dir = pyprocar.download_example(save_dir='', \n                                material='Fe',\n                                code='vasp', \n                                spin_calc_type='non-spin-polarized',\n                                calc_type='bands')\n\n   dos_dir = pyprocar.download_example(save_dir='', \n                                material='Fe',\n                                code='vasp', \n                                spin_calc_type='non-spin-polarized',\n                                calc_type='dos')\n"
      ]
    },
    {
      "cell_type": "markdown",
      "metadata": {},
      "source": [
        "importing pyprocar and specifying local data_dir\n\n"
      ]
    },
    {
      "cell_type": "code",
      "execution_count": null,
      "metadata": {
        "collapsed": false
      },
      "outputs": [],
      "source": [
        "import os\nimport pyprocar\n\nbands_dir = f\"{pyprocar.utils.ROOT}{os.sep}data{os.sep}examples{os.sep}Fe{os.sep}vasp{os.sep}non-spin-polarized{os.sep}bands\"\ndos_dir = f\"{pyprocar.utils.ROOT}{os.sep}data{os.sep}examples{os.sep}Fe{os.sep}vasp{os.sep}non-spin-polarized{os.sep}dos\""
      ]
    },
    {
      "cell_type": "markdown",
      "metadata": {},
      "source": [
        "## Plain mode\nThe keywords that works for bandsplot and dosplot will work in bandsdosplot. \nThese keyword arguments can be set in bands_settings and dos_settings as done below.\n\n\n"
      ]
    },
    {
      "cell_type": "code",
      "execution_count": null,
      "metadata": {
        "collapsed": false
      },
      "outputs": [],
      "source": [
        "bands_settings = {\n                  'mode':'plain',\n                  'fermi':5.599480, # This will overide the default fermi value found in bands directory\n                  'dirname': bands_dir\n                  }\n\ndos_settings = {\n               'mode':'plain',\n               'fermi':5.599480,   # This will overide the default fermi value found in dos directory\n               'dirname': dos_dir\n                }\n\npyprocar.bandsdosplot(code='vasp',\n                bands_settings=bands_settings,\n                dos_settings=dos_settings,\n                )"
      ]
    }
  ],
  "metadata": {
    "kernelspec": {
      "display_name": "Python 3",
      "language": "python",
      "name": "python3"
    },
    "language_info": {
      "codemirror_mode": {
        "name": "ipython",
        "version": 3
      },
      "file_extension": ".py",
      "mimetype": "text/x-python",
      "name": "python",
      "nbconvert_exporter": "python",
      "pygments_lexer": "ipython3",
      "version": "3.9.20"
    }
  },
  "nbformat": 4,
  "nbformat_minor": 0
}