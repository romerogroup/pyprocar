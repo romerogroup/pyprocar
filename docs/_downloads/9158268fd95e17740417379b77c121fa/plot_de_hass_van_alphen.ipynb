{
  "cells": [
    {
      "cell_type": "markdown",
      "metadata": {},
      "source": [
        "\n\n# Showing how to get van alphen fequencies from the fermi surface\n\nSymmetry does not currently work! Make sure for fermi surface calculations turn off symmetry\n\nVan alphen fequencies example. De has van alphen frequencies (F) in terms of extremal fermi surface areas (A) is given below.\nTo compare the theoretical freuqencies we will compare with the results taken from the experimental paper\n\"The Fermi surfaces of copper, silver and gold. I. The de Haas-Van alphen effect\"(https://doi.org/10.1098/rsta.1962.0011).\n\n\n\\begin{align}F = \\frac{ c \\hbar A }{ 2 \\pi e  }   !(cgs)\n\n   e = 4.768e^{-10} !statcoulombs\n\n   c = 3.0e^{10} !cm/s\n\n   \\hbar = 1.0546e^{-27} !erg*s\\end{align}\n\nFirst download the example files with the code below. Then replace data_dir below.\n\n.. code-block::\n   :caption: Downloading example\n\n    data_dir = pyprocar.download_example(save_dir='', \n                                material='Au',\n                                code='vasp', \n                                spin_calc_type='non-spin-polarized',\n                                calc_type='fermi')\n"
      ]
    },
    {
      "cell_type": "code",
      "execution_count": null,
      "metadata": {
        "collapsed": false
      },
      "outputs": [],
      "source": [
        "# sphinx_gallery_thumbnail_number = 1"
      ]
    },
    {
      "cell_type": "code",
      "execution_count": null,
      "metadata": {
        "collapsed": false
      },
      "outputs": [],
      "source": [
        "import pyvista\n# You do not need this. This is to ensure an image is rendered off screen when generating exmaple gallery.\npyvista.OFF_SCREEN = True"
      ]
    },
    {
      "cell_type": "markdown",
      "metadata": {},
      "source": [
        "importing pyprocar and specifying local data_dir\n\n"
      ]
    },
    {
      "cell_type": "code",
      "execution_count": null,
      "metadata": {
        "collapsed": false
      },
      "outputs": [],
      "source": [
        "import os\nimport pyprocar\n\ndata_dir = f\"{pyprocar.utils.ROOT}{os.sep}data{os.sep}examples{os.sep}Au{os.sep}vasp{os.sep}non-spin-polarized{os.sep}fermi\"\n\n\n# First create the FermiHandler object, this loads the data into memory. Then you can call class methods to plot\n# Symmetry only works for specfic space groups currently. \n# For the actual calculations turn off symmetry and set 'apply_symmetry'=False\nfermiHandler = pyprocar.FermiHandler(\n                                    code=\"vasp\",\n                                    dirname=data_dir,\n                                    apply_symmetry=True)"
      ]
    },
    {
      "cell_type": "markdown",
      "metadata": {},
      "source": [
        "## Maximal cross sectional area along the (0,0,1)\n\n\n"
      ]
    },
    {
      "cell_type": "code",
      "execution_count": null,
      "metadata": {
        "collapsed": false
      },
      "outputs": [],
      "source": [
        "fermiHandler.plot_fermi_cross_section_box_widget(\n                            bands=[5],\n                            slice_normal=(0,0,1),\n                            slice_origin=(0,0,0),\n                            surface_opacity=0.40,\n                            mode=\"parametric\",\n                            show=True)"
      ]
    },
    {
      "cell_type": "markdown",
      "metadata": {},
      "source": [
        "In the above figure we can see the cross section area is $A = 4.1586 Ang^{-2} = 4.1586e^{16} cm^{-2} (cgs)$.\n\n$F = \\frac{ c \\hbar A }{ 2 \\pi e  } = 4.365e^8 G$\n\n$F_{exp} = 4.50e^7 G$\n\n"
      ]
    },
    {
      "cell_type": "markdown",
      "metadata": {},
      "source": [
        "## Minimal cross sectional area along the (0,0,1)\n\n\n\n"
      ]
    },
    {
      "cell_type": "code",
      "execution_count": null,
      "metadata": {
        "collapsed": false
      },
      "outputs": [],
      "source": [
        "fermiHandler.plot_fermi_cross_section_box_widget(\n                                bands=[5],\n                                slice_normal=(0,0,1),\n                                slice_origin=(0,0,1.25),\n                                surface_opacity=0.40,\n                                mode=\"parametric\",\n                                show=True,)"
      ]
    },
    {
      "cell_type": "markdown",
      "metadata": {},
      "source": [
        "In the above figure we can see the cross section area is $A = 0.1596 Ang^{-2} = 0.1596e^{16} cm^{-2} (cgs)$.\n\n$F = \\frac{ c \\hbar A }{ 2 \\pi e  } = 1.68e^7 G$\n\n$F_{exp} = 1.50e^7 G$\n\n\n"
      ]
    },
    {
      "cell_type": "markdown",
      "metadata": {},
      "source": [
        "## Extremal cross sectional area along the (0,1,1)\n\n\n\n"
      ]
    },
    {
      "cell_type": "code",
      "execution_count": null,
      "metadata": {
        "collapsed": false
      },
      "outputs": [],
      "source": [
        "fermiHandler.plot_fermi_cross_section_box_widget(\n                                bands=[5],\n                                slice_normal=(0,1,1),\n                                slice_origin=(0,0,0),\n                                surface_opacity=0.40,\n                                mode=\"parametric\",\n                                show=True,)"
      ]
    },
    {
      "cell_type": "markdown",
      "metadata": {},
      "source": [
        "In the above figure we can see the cross section area is $A = 4.3956 Ang^{-2} = 4.3956e^{16} cm^{-2} (cgs)$.\n\n$F = \\frac{ c \\hbar A }{ 2 \\pi e  } = 4.61e^8 G$\n\n$F_{exp} = 4.85e^8 G$\n\n"
      ]
    }
  ],
  "metadata": {
    "kernelspec": {
      "display_name": "Python 3",
      "language": "python",
      "name": "python3"
    },
    "language_info": {
      "codemirror_mode": {
        "name": "ipython",
        "version": 3
      },
      "file_extension": ".py",
      "mimetype": "text/x-python",
      "name": "python",
      "nbconvert_exporter": "python",
      "pygments_lexer": "ipython3",
      "version": "3.9.20"
    }
  },
  "nbformat": 4,
  "nbformat_minor": 0
}