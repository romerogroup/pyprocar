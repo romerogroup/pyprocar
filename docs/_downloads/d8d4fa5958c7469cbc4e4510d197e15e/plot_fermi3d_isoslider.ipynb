{
  "cells": [
    {
      "cell_type": "markdown",
      "metadata": {},
      "source": [
        "\n\n# Plotting fermi3d isoslider\n\nSymmetry does not currently work! Make sure for fermi surface calculations turn off symmetry\n\nPlotting fermi3d isoslider example.\n\nFirst download the example files with the code below. Then replace data_dir below.\n\n.. code-block::\n   :caption: Downloading example\n\n    data_dir = pyprocar.download_example(save_dir='', \n                                material='Fe',\n                                code='qe', \n                                spin_calc_type='non-spin-polarized',\n                                calc_type='fermi')\n"
      ]
    },
    {
      "cell_type": "code",
      "execution_count": null,
      "metadata": {
        "collapsed": false
      },
      "outputs": [],
      "source": [
        "# sphinx_gallery_thumbnail_number = 1"
      ]
    },
    {
      "cell_type": "code",
      "execution_count": null,
      "metadata": {
        "collapsed": false
      },
      "outputs": [],
      "source": [
        "import pyvista\n# You do not need this. This is to ensure an image is rendered off screen when generating exmaple gallery.\npyvista.OFF_SCREEN = True"
      ]
    },
    {
      "cell_type": "markdown",
      "metadata": {},
      "source": [
        "importing pyprocar and specifying local data_dir\n\n"
      ]
    },
    {
      "cell_type": "code",
      "execution_count": null,
      "metadata": {
        "collapsed": false
      },
      "outputs": [],
      "source": [
        "import os\nimport pyprocar\n\ndata_dir = f\"{pyprocar.utils.ROOT}{os.sep}data{os.sep}examples{os.sep}Fe{os.sep}qe{os.sep}non-spin-polarized{os.sep}fermi\"\n\n\n\n# First create the FermiHandler object, this loads the data into memory. Then you can call class methods to plot\n# Symmetry only works for specfic space groups currently. \n# For the actual calculations turn off symmetry and set 'apply_symmetry'=False\nfermiHandler = pyprocar.FermiHandler(\n                                    code=\"qe\",\n                                    dirname=data_dir,\n                                    apply_symmetry=True)"
      ]
    },
    {
      "cell_type": "markdown",
      "metadata": {},
      "source": [
        "## Plain mode\n\n\n\n"
      ]
    },
    {
      "cell_type": "code",
      "execution_count": null,
      "metadata": {
        "collapsed": false
      },
      "outputs": [],
      "source": [
        "# iso_range will be the energy range around the fermi level. 2 would search 1 ev above and below.\niso_range=2\n\n# iso_surface will generate 5 surfaces equally space throughout the range.\niso_surfaces=5\n\n\nfermiHandler.plot_fermi_isoslider(\n\n                                 iso_range=iso_range, \n                                 iso_surfaces=iso_surfaces,\n                                 mode=\"plain\",\n                                 show=True,)"
      ]
    }
  ],
  "metadata": {
    "kernelspec": {
      "display_name": "Python 3",
      "language": "python",
      "name": "python3"
    },
    "language_info": {
      "codemirror_mode": {
        "name": "ipython",
        "version": 3
      },
      "file_extension": ".py",
      "mimetype": "text/x-python",
      "name": "python",
      "nbconvert_exporter": "python",
      "pygments_lexer": "ipython3",
      "version": "3.9.20"
    }
  },
  "nbformat": 4,
  "nbformat_minor": 0
}