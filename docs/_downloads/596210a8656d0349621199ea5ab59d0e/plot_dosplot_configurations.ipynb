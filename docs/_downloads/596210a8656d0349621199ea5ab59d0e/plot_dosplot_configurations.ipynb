{
  "cells": [
    {
      "cell_type": "markdown",
      "metadata": {},
      "source": [
        "# Plotting with Configurations in [pyprocar]{.title-ref} {#ref_plot_dos_configuration}\r\n\r\nThis example illustrates how to utilize various configurations for\r\nplotting the density of states (DOS) using the [pyprocar]{.title-ref}\r\npackage. It provides a structured way to explore and demonstrate\r\ndifferent configurations for the [dosplot]{.title-ref} function.\r\n\r\n## Preparation\r\n\r\nBefore diving into plotting, we need to download the example files. Use\r\nthe following code to do this. Once downloaded, specify the\r\n[data_dir]{.title-ref} to point to the location of the downloaded data.\r\n\r\n``` {caption=\"Downloading example\"}\r\nimport pyprocar\r\n\r\ndata_dir = pyprocar.download_example(\r\n                            save_dir='', \r\n                            material='Fe',\r\n                            code='vasp', \r\n                            spin_calc_type='spin-polarized-colinear',\r\n                            calc_type='dos'\r\n                           )\r\n```\r\n"
      ]
    },
    {
      "cell_type": "code",
      "execution_count": null,
      "metadata": {
        "collapsed": false
      },
      "outputs": [],
      "source": [
        "import os\nimport pyprocar\n\n# Define the directory containing the example data\ncode='vasp'\ndata_dir = f\"{pyprocar.utils.ROOT}{os.sep}data{os.sep}examples{os.sep}Fe{os.sep}{code}{os.sep}spin-polarized-colinear{os.sep}dos\"\n\nspins=[0,1]"
      ]
    },
    {
      "cell_type": "code",
      "execution_count": null,
      "metadata": {
        "collapsed": false
      },
      "outputs": [],
      "source": [
        "# Section 1: Locating and Printing Configuration Files\n# ++++++++++++++++++++++++++++++++++++++++++++++++++++++++++++++++++++++++++++++\n#\n# This section demonstrates where the configuration files are located in the package.\n# It also shows how to print the configurations by setting print_plot_opts=True.\n#\n\n# Path to the configuration files in the package\nconfig_path = os.path.join(pyprocar.__path__[0], 'cfg')\nprint(f\"Configuration files are located at: {config_path}\")\n\n# Print the configurations\npyprocar.dosplot(code=code, dirname=data_dir, print_plot_opts=True)"
      ]
    },
    {
      "cell_type": "code",
      "execution_count": null,
      "metadata": {
        "collapsed": false
      },
      "outputs": [],
      "source": [
        "# Section 2: Changing cmap, clim, and Fermi line properties\n# ++++++++++++++++++++++++++++++++++++++++++++++++++++++++++++++++++++++++++++++\n#\n# This section demonstrates how to change the colormap (cmap), color limits (clim),\n# and Fermi line properties (color, linestyle, and linewidth).\n#\n\npyprocar.dosplot(\n    code=code,\n    dirname=data_dir,\n    atoms=[0],\n    orbitals=[4,5,6,7,8],\n    mode='parametric',\n    cmap='viridis',  # Colormap\n    clim=[0, 1],  # Color limits\n    fermi_color='red',  # Fermi line color\n    fermi_linestyle='--',  # Fermi line linestyle\n    fermi_linewidth=2.0  # Fermi line linewidth\n)"
      ]
    },
    {
      "cell_type": "code",
      "execution_count": null,
      "metadata": {
        "collapsed": false
      },
      "outputs": [],
      "source": [
        "# Section 4: Setting the Figure Size and DPI\n# ++++++++++++++++++++++++++++++++++++++++++++++++++++++++++++++++++++++++++++++\n#\n# This section demonstrates how to set the figure size and dots per inch (DPI) for the plot.\n#\n\npyprocar.dosplot(\n    code=code,\n    dirname=data_dir,\n    atoms=[0],\n    orbitals=[4,5,6,7,8],\n    mode='parametric_line',\n    figure_size=(10, 6),  # Figure size (width, height)\n    dpi=300,  # Dots per inch\n    grid=True, # Boolean for grid\n)"
      ]
    }
  ],
  "metadata": {
    "kernelspec": {
      "display_name": "Python 3",
      "language": "python",
      "name": "python3"
    },
    "language_info": {
      "codemirror_mode": {
        "name": "ipython",
        "version": 3
      },
      "file_extension": ".py",
      "mimetype": "text/x-python",
      "name": "python",
      "nbconvert_exporter": "python",
      "pygments_lexer": "ipython3",
      "version": "3.8.17"
    }
  },
  "nbformat": 4,
  "nbformat_minor": 0
}