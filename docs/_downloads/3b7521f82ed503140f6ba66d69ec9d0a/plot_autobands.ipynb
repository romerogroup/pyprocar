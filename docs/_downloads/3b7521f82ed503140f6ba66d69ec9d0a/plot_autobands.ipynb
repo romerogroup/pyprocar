{
  "cells": [
    {
      "cell_type": "markdown",
      "metadata": {},
      "source": [
        "\n\n# Autobands plotting\n\nOne of the most powerful capabilities of PyProcar is allowing to correlate real space with electronic structure, \nfor instance finding surface states or defect levels. Traditionally this task is done by the user, \nproviding a list of atoms representing the surface or the defect (parameter ``atom`` in ``bandsplot``). \nAlso the user needs to choose a relevant energy window for the plot and setting the boundaries of the color scale to highlight the relevant states. \nThat process is both tedious and error prone: for instance the user need to find the special atoms (*e.g.* defect, surface, etc.) \nand take care of whether the indexes are 0- or 1-based.\n\nSpecifically, the function aims to:\n- Determine an optimal energy window for the plot, which includes bulk-like bands both above and below the *fundamental* band gap for insulators, as well as any localized states within that gap.\n- Identify important real-space features such as defects, surfaces, and van der Waals layers.\n- Locate localized electronic states within the selected energy window.\n- Calculate suitable values for the color map to emphasize these localized states.\n\nAll these tasks are executed without requiring user intervention. The identification of real-space features is carried out using PyPoscar. \nLocalized states are identified through the Inverse Participation Ratio (IPR). \nThe function correlates the geometry and electronic structure by evaluating the participation of relevant atoms in the IPR calculations.\n\nThis automated identification of key features is most effective when the atoms of interest are statistically distinct from the rest of the system, \nboth in real space and electronic structure. In scenarios where such distinctions are not readily apparent, the function will default to generating \na standard band structure plot. It's important to note that while our current implementation is robust, there may be some geometrical features it does not yet capture. \nHowever, we anticipate that the function will continue to improve based on user feedback.\n\n## Preparation\nBefore diving into plotting, we need to download the example files. \nUse the following code to do this. Once downloaded, specify the `data_dir` to point to the location of the downloaded data.\n\n.. code-block::\n   :caption: Downloading example\n\n    import pyprocar\n\n    bi2se3_data_dir = pyprocar.download_example(\n                                save_dir='', \n                                material='auto',\n                                code='vasp', \n                                spin_calc_type='non-spin-polarized',\n                                calc_type='bands'\n                               )\n"
      ]
    },
    {
      "cell_type": "markdown",
      "metadata": {},
      "source": [
        "## Setting up the environment\nFirst, we will import the necessary libraries and set up our data directory path.\n\n"
      ]
    },
    {
      "cell_type": "code",
      "execution_count": null,
      "metadata": {
        "collapsed": false
      },
      "outputs": [],
      "source": [
        "import os\nimport pyprocar\n\n# Define the directory containing the example data\ndata_dir = f\"{pyprocar.utils.ROOT}{os.sep}data{os.sep}examples{os.sep}auto\""
      ]
    },
    {
      "cell_type": "markdown",
      "metadata": {},
      "source": [
        "## Autobands Example\n\nAs an example of this functionality, we calculate a slab of a topologically non-trivial phase of Bi. \nIt features surface states with Dirac cones at high-symmetry points. The code used to plot the band structure is below.\nThe title of the figure is ``Defect 0``, which corresponds to the upper surface of the slab, the other surface generates a second figure, \nwith title ``Defect 1``. When running the code above, a file ``report.txt`` is generated with info about the atoms comprising each defect, \nand the associated localized states.\n\n"
      ]
    },
    {
      "cell_type": "code",
      "execution_count": null,
      "metadata": {
        "collapsed": false
      },
      "outputs": [],
      "source": [
        "pyprocar.autobandsplot(code='vasp', dirname=data_dir)"
      ]
    }
  ],
  "metadata": {
    "kernelspec": {
      "display_name": "Python 3",
      "language": "python",
      "name": "python3"
    },
    "language_info": {
      "codemirror_mode": {
        "name": "ipython",
        "version": 3
      },
      "file_extension": ".py",
      "mimetype": "text/x-python",
      "name": "python",
      "nbconvert_exporter": "python",
      "pygments_lexer": "ipython3",
      "version": "3.9.20"
    }
  },
  "nbformat": 4,
  "nbformat_minor": 0
}