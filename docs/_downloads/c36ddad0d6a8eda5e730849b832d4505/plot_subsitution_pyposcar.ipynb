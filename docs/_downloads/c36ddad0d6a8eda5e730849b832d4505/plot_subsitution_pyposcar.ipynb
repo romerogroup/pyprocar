{
  "cells": [
    {
      "cell_type": "markdown",
      "metadata": {},
      "source": [
        "# Substituting Atoms in a POSCAR File {#ref_subsitution_poscar}\r\n\r\nIn this example, we\\'ll demonstrate how to substitute atoms in a POSCAR\r\nfile using the [pyprocar]{.title-ref} package. Specifically, we will:\r\n\r\n1.  Read a POSCAR file containing atomic positions and lattice vectors.\r\n2.  Visualize the initial atomic positions.\r\n3.  Substitute a boron (B) atom with a nitrogen (N) atom.\r\n4.  Visualize the atomic positions after the substitution.\r\n5.  Create GIFs to visualize the atomic structures from different\r\n    angles.\r\n\r\nBefore diving in, make sure to have [pyvista]{.title-ref},\r\n[numpy]{.title-ref}, and [pyprocar]{.title-ref} installed.\r\n"
      ]
    },
    {
      "cell_type": "code",
      "execution_count": null,
      "metadata": {
        "collapsed": false
      },
      "outputs": [],
      "source": [
        "import os\nfrom itertools import product\nimport numpy as np\nimport pyvista as pv\nimport pyprocar.pyposcar as p\nfrom pyprocar.utils import ROOT\n# Define the data directory\ndata_dir=os.path.join(ROOT,'data','examples','PyPoscar','00-Poscar')\n# You do not need this. This is to ensure an image is rendered off screen when generating exmaple gallery.\npv.OFF_SCREEN = True"
      ]
    },
    {
      "cell_type": "markdown",
      "metadata": {},
      "source": [
        "# Reading and Parsing the POSCAR File\r\n"
      ]
    },
    {
      "cell_type": "code",
      "execution_count": null,
      "metadata": {
        "collapsed": false
      },
      "outputs": [],
      "source": [
        "# Read the POSCAR file\na = p.Poscar(os.path.join(data_dir, \"POSCAR-YB6.vasp\"))\na.parse()\n\n# Display lattice, elements, and positions\nprint('Lattice:')\nprint(a.lat)\nprint('\\nElements:')\nprint(a.elm)\nprint('\\nPositions in Direct coordinates')\nprint(a.dpos)\n\n\n# Convert positions to Cartesian coordinates for visualization\natoms_before = pv.PolyData(np.dot(a.dpos, a.lat))\natoms_before['atoms'] = a.elm\nlabels_before = [elm + f':{point}' for elm, point in zip(a.elm, a.dpos)]"
      ]
    },
    {
      "cell_type": "markdown",
      "metadata": {},
      "source": [
        "# Atom Substitution\r\n"
      ]
    },
    {
      "cell_type": "code",
      "execution_count": null,
      "metadata": {
        "collapsed": false
      },
      "outputs": [],
      "source": [
        "# Substitute the second B atom with an N atom\nprint('\\n\\nChanging the the second atom from B to N\\n' + '-'*40)\nnew_pos = a.dpos[1]\na.remove(atoms=1)\na.add(position=new_pos, element='N', direct=True)\nprint('\\nElements after substitution:')\nprint(a.elm)\nprint('\\nPositions in Direct coordinates after substitution:')\nprint(a.dpos)\n\n# Define the unit cell using lattice vectors\nunit_cell_comb = list(product([0, 1], repeat=3))\nunit_cell = np.array([comb[0]*a.lat[0] + comb[1]*a.lat[1] + comb[2]*a.lat[2] for comb in unit_cell_comb])\nunit_cell = pv.PolyData(unit_cell)\n\n# Convert positions to Cartesian coordinates for visualization\natoms_after = pv.PolyData(np.dot(a.dpos, a.lat))\natoms_after['atoms'] = a.elm\nlabels_after = [elm + f':{point}' for elm, point in zip(a.elm, a.dpos)]"
      ]
    },
    {
      "cell_type": "markdown",
      "metadata": {},
      "source": [
        "# Visualization of Atomic Structures\r\n"
      ]
    },
    {
      "cell_type": "code",
      "execution_count": null,
      "metadata": {
        "collapsed": false
      },
      "outputs": [],
      "source": [
        "# Visualize the atomic structures side by side\nplotter = pv.Plotter(shape=(1, 2), border=False)\n# Before substitution\nplotter.subplot(0, 0)\nplotter.add_mesh(unit_cell.delaunay_3d().extract_feature_edges(), color='black', line_width=5, render_lines_as_tubes=True)\nplotter.add_point_labels(points=atoms_before.points, labels=labels_before, show_points=False, always_visible=True)\nplotter.add_mesh(atoms_before, scalars='atoms', point_size=30, render_points_as_spheres=True, show_scalar_bar=False)\nplotter.add_title(\"Before substitution\")\n# After substitution\nplotter.subplot(0, 1)\nplotter.add_mesh(unit_cell.delaunay_3d().extract_feature_edges(), color='black', line_width=5, render_lines_as_tubes=True)\nplotter.add_point_labels(points=atoms_after.points, labels=labels_after, show_points=False, always_visible=True)\nplotter.add_mesh(atoms_after, scalars='atoms', point_size=30, render_points_as_spheres=True, show_scalar_bar=False)\nplotter.add_title(\"After substitution\")\nplotter.show()"
      ]
    },
    {
      "cell_type": "markdown",
      "metadata": {},
      "source": [
        "# Creating GIFs for Visualization\r\n"
      ]
    },
    {
      "cell_type": "code",
      "execution_count": null,
      "metadata": {
        "collapsed": false
      },
      "outputs": [],
      "source": [
        "# Define a function to create a GIF visualization of the atomic structure\ndef create_gif(atoms, labels, unit_cell, save_file):\n    plotter = pv.Plotter()\n    title = save_file.split(os.sep)[-1].split('.')[0]\n    plotter.add_title(title)\n    plotter.add_mesh(unit_cell.delaunay_3d().extract_feature_edges(), color='black', line_width=5, render_lines_as_tubes=True)\n    plotter.add_point_labels(points=atoms.points, labels=labels, show_points=False, always_visible=True)\n    plotter.add_mesh(atoms, scalars='atoms', point_size=30, render_points_as_spheres=True, show_scalar_bar=False)\n    path = plotter.generate_orbital_path(n_points=36)\n    plotter.open_gif(os.path.join(data_dir, save_file))\n    plotter.orbit_on_path(path, write_frames=True, viewup=[0, 0, 1], step=0.05)\n    plotter.close()\n\n# Create GIFs for atomic structures before and after substitution\ncreate_gif(atoms=atoms_before, labels=labels_before, unit_cell=unit_cell, save_file='atoms_before.gif')\ncreate_gif(atoms=atoms_after, labels=labels_after, unit_cell=unit_cell, save_file='atoms_after.gif')"
      ]
    }
  ],
  "metadata": {
    "kernelspec": {
      "display_name": "Python 3",
      "language": "python",
      "name": "python3"
    },
    "language_info": {
      "codemirror_mode": {
        "name": "ipython",
        "version": 3
      },
      "file_extension": ".py",
      "mimetype": "text/x-python",
      "name": "python",
      "nbconvert_exporter": "python",
      "pygments_lexer": "ipython3",
      "version": "3.8.17"
    }
  },
  "nbformat": 4,
  "nbformat_minor": 0
}