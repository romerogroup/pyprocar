{
  "cells": [
    {
      "cell_type": "markdown",
      "metadata": {},
      "source": [
        "# Plotting fermi2d noncolinear {#ref_plotting_fermi2d_noncolinear}\r\n\r\nPlotting fermi2d noncolinear example. For more information about fermi2d\r\nrefer to `fermi2d`{.interpreted-text role=\"ref\"}\r\n\r\nFirst download the example files with the code below. Then replace\r\ndata_dir below.\r\n\r\n``` {caption=\"Downloading example\"}\r\ndata_dir = pyprocar.download_example(save_dir='', \r\n                            material='Fe',\r\n                            code='vasp', \r\n                            spin_calc_type='non-colinear',\r\n                            calc_type='fermi')\r\n```\r\n"
      ]
    },
    {
      "cell_type": "markdown",
      "metadata": {},
      "source": [
        "importing pyprocar and specifying local data_dir\r\n"
      ]
    },
    {
      "cell_type": "code",
      "execution_count": null,
      "metadata": {
        "collapsed": false
      },
      "outputs": [],
      "source": [
        "import os\nimport pyprocar\n\ndata_dir = f\"{pyprocar.utils.ROOT}{os.sep}data{os.sep}examples{os.sep}Fe{os.sep}vasp{os.sep}non-colinear{os.sep}fermi\""
      ]
    },
    {
      "cell_type": "markdown",
      "metadata": {},
      "source": [
        "# Spin Texture Projection\r\n\r\nBy setting spin_texture to be true, You can plot the arrows for the spin\r\ntextures. By default the projected values of the arrows will be s_z. But\r\nyou can change this by setting arrow_projection to one of the following\r\n\\'x\\',\\'y\\',\\'z\\',\\'x\\^2\\',\\'y\\^2\\',\\'z\\^2\\'\r\n"
      ]
    },
    {
      "cell_type": "code",
      "execution_count": null,
      "metadata": {
        "collapsed": false
      },
      "outputs": [],
      "source": [
        "pyprocar.fermi2D(code = 'vasp',\n               dirname=data_dir,\n               spin_texture=True,\n               spin_projection='x',\n               arrow_size=3,\n               arrow_density=10,\n               plot_color_bar=True)"
      ]
    },
    {
      "cell_type": "markdown",
      "metadata": {},
      "source": [
        "# Spin Texture single color\r\n"
      ]
    },
    {
      "cell_type": "code",
      "execution_count": null,
      "metadata": {
        "collapsed": false
      },
      "outputs": [],
      "source": [
        "pyprocar.fermi2D(code = 'vasp',\n               dirname=data_dir,\n               spin_texture=True,\n               arrow_color = 'blue',\n               arrow_size=3,\n               arrow_density=10)"
      ]
    },
    {
      "cell_type": "markdown",
      "metadata": {},
      "source": [
        "# Selecting band indices\r\n\r\nYou can specify specfic bands with the band indices keyword.\r\nband_indices will be a list of list that contain band indices. Below I\r\nonly plot bands 14,15 Also you can specify the colors of the bands as\r\nwell with band_colors\r\n"
      ]
    },
    {
      "cell_type": "code",
      "execution_count": null,
      "metadata": {
        "collapsed": false
      },
      "outputs": [],
      "source": [
        "band_indices = [[6,7]]\nband_colors = [['blue','red']]\npyprocar.fermi2D(code = 'vasp', \n               mode='plain_bands',\n               band_indices = band_indices,\n               band_colors=band_colors,\n               spin_texture=True,\n               arrow_size=3,\n               arrow_density=10,\n               dirname=data_dir)"
      ]
    }
  ],
  "metadata": {
    "kernelspec": {
      "display_name": "Python 3",
      "language": "python",
      "name": "python3"
    },
    "language_info": {
      "codemirror_mode": {
        "name": "ipython",
        "version": 3
      },
      "file_extension": ".py",
      "mimetype": "text/x-python",
      "name": "python",
      "nbconvert_exporter": "python",
      "pygments_lexer": "ipython3",
      "version": "3.8.17"
    }
  },
  "nbformat": 4,
  "nbformat_minor": 0
}