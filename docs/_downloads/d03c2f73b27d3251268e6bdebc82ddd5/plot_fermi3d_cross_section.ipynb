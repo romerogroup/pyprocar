{
  "cells": [
    {
      "cell_type": "markdown",
      "metadata": {},
      "source": [
        "\n\n# Plotting fermi3d cross_section\n\nSymmetry does not currently work! Make sure for fermi surface calculations turn off symmetry\n\nPlotting fermi3d cross_section example.\n\nFirst download the example files with the code below. Then replace data_dir below.\n\n.. code-block::\n   :caption: Downloading example\n\n    data_dir = pyprocar.download_example(save_dir='', \n                                material='Fe',\n                                code='vasp', \n                                spin_calc_type='non-colinear',\n                                calc_type='fermi')\n"
      ]
    },
    {
      "cell_type": "code",
      "execution_count": null,
      "metadata": {
        "collapsed": false
      },
      "outputs": [],
      "source": [
        "# sphinx_gallery_thumbnail_number = 1"
      ]
    },
    {
      "cell_type": "code",
      "execution_count": null,
      "metadata": {
        "collapsed": false
      },
      "outputs": [],
      "source": [
        "import pyvista\n# You do not need this. This is to ensure an image is rendered off screen when generating exmaple gallery.\npyvista.OFF_SCREEN = True"
      ]
    },
    {
      "cell_type": "markdown",
      "metadata": {},
      "source": [
        "importing pyprocar and specifying local data_dir\n\n"
      ]
    },
    {
      "cell_type": "code",
      "execution_count": null,
      "metadata": {
        "collapsed": false
      },
      "outputs": [],
      "source": [
        "import os\nimport pyprocar\n\ndata_dir = f\"{pyprocar.utils.ROOT}{os.sep}data{os.sep}examples{os.sep}Fe{os.sep}vasp{os.sep}non-colinear{os.sep}fermi\"\n\n\n# First create the FermiHandler object, this loads the data into memory. Then you can call class methods to plot\n# Symmetry only works for specfic space groups currently. \n# For the actual calculations turn off symmetry and set 'apply_symmetry'=False\nfermiHandler = pyprocar.FermiHandler(\n                                    code=\"vasp\",\n                                    dirname=data_dir,\n                                    apply_symmetry=True)"
      ]
    },
    {
      "cell_type": "markdown",
      "metadata": {},
      "source": [
        "## Cross section\n\n\n\n"
      ]
    },
    {
      "cell_type": "code",
      "execution_count": null,
      "metadata": {
        "collapsed": false
      },
      "outputs": [],
      "source": [
        "# show_cross_section_area can show the outermost cross section area\nshow_cross_section_area=False\n\n# slice_normal is the initial orientation of the the cross section plane widget\nslice_normal=(1,0,0)\n\n# slice_origin is the initial position of the center of the cross section plane widget\nslice_origin=(0,0,0)\n\n# line_width is the size of the line of the cross section\nline_width=5.0\n\n# when you run this code, you will be able to adjust the widget manually. \n# If you want to save the position of the widget use this keyword argument to save an image.\n# This must be a string to the filename where you will save the image\n#save_2d_slice=''\n\nfermiHandler.plot_fermi_cross_section(\n                              slice_normal=slice_normal,\n                              slice_origin=slice_origin,\n                              cross_section_slice_linewidth=line_width,\n                              mode=\"spin_texture\",\n                              spin_texture=True,\n                              arrow_size=0.5,\n                              show=True,)"
      ]
    },
    {
      "cell_type": "markdown",
      "metadata": {},
      "source": [
        "## Cross section. Save slice\n\n\n\n"
      ]
    },
    {
      "cell_type": "code",
      "execution_count": null,
      "metadata": {
        "collapsed": false
      },
      "outputs": [],
      "source": [
        "# when you run this code, you will be able to adjust the widget manually. \n# If you want to save the position of the widget use this keyword argument to save an image.\n# This must be a string to the filename where you will save the image\nsave_2d_slice='2d_slice.png'\n\nfermiHandler.plot_fermi_cross_section(\n                              slice_normal=slice_normal,\n                              slice_origin=slice_origin,\n                              cross_section_slice_linewidth=line_width,\n\n                              mode=\"spin_texture\",\n                              spin_texture=True,\n                              arrow_size=0.5,\n                              save_2d_slice=save_2d_slice,\n                              show=True,)"
      ]
    }
  ],
  "metadata": {
    "kernelspec": {
      "display_name": "Python 3",
      "language": "python",
      "name": "python3"
    },
    "language_info": {
      "codemirror_mode": {
        "name": "ipython",
        "version": 3
      },
      "file_extension": ".py",
      "mimetype": "text/x-python",
      "name": "python",
      "nbconvert_exporter": "python",
      "pygments_lexer": "ipython3",
      "version": "3.9.20"
    }
  },
  "nbformat": 4,
  "nbformat_minor": 0
}