{
  "cells": [
    {
      "cell_type": "markdown",
      "metadata": {},
      "source": [
        "# Example of finding the bandgap {#ref_example_ebs}\r\n\r\nThe ElectronicBandStructure is used to handle the information related to\r\nthe electronic band structure.\r\n\r\n``` {caption=\"General Format\"}\r\nimport pyprocar\r\npyprocar.io.Parser(code=\"vasp\", dir=data_dir)\r\n```\r\n\r\n``` {caption=\"Downloading example\"}\r\ndata_dir = pyprocar.download_example(save_dir='', \r\n                            material='Fe',\r\n                            code='vasp', \r\n                            spin_calc_type='non-spin-polarized',\r\n                            calc_type='bands')\r\n```\r\n"
      ]
    },
    {
      "cell_type": "code",
      "execution_count": null,
      "metadata": {
        "collapsed": false
      },
      "outputs": [],
      "source": [
        "# sphinx_gallery_thumbnail_number = 1\n\nimport pyvista as pv\n# You do not need this. This is to ensure an image is rendered off screen when generating exmaple gallery.\npv.OFF_SCREEN = True"
      ]
    },
    {
      "cell_type": "markdown",
      "metadata": {},
      "source": [
        "importing pyprocar and specify the local data_dir\r\n"
      ]
    },
    {
      "cell_type": "code",
      "execution_count": null,
      "metadata": {
        "collapsed": false
      },
      "outputs": [],
      "source": [
        "import os\nimport numpy as np\nimport pyprocar\n\ndata_dir = f\"{pyprocar.utils.ROOT}{os.sep}data{os.sep}examples{os.sep}Fe{os.sep}vasp{os.sep}non-spin-polarized{os.sep}fermi\""
      ]
    },
    {
      "cell_type": "markdown",
      "metadata": {},
      "source": [
        "Initialize the parser object and get the ElectronicBandStructure\r\n"
      ]
    },
    {
      "cell_type": "code",
      "execution_count": null,
      "metadata": {
        "collapsed": false
      },
      "outputs": [],
      "source": [
        "parser=pyprocar.io.Parser(code=\"vasp\",dir=data_dir)\nebs=parser.ebs\ne_fermi = parser.ebs.efermi\nstructure = parser.structure\n# Apply symmetry to get a full kmesh\nif structure.rotations is not None:\n    ebs.ibz2fbz(structure.rotations)"
      ]
    },
    {
      "cell_type": "markdown",
      "metadata": {},
      "source": [
        "You can print the object to see some information about the Band\r\nStructure\r\n"
      ]
    },
    {
      "cell_type": "code",
      "execution_count": null,
      "metadata": {
        "collapsed": false
      },
      "outputs": [],
      "source": [
        "print(ebs)"
      ]
    },
    {
      "cell_type": "markdown",
      "metadata": {},
      "source": [
        "Let\\'s plot the kpoints\r\n"
      ]
    },
    {
      "cell_type": "code",
      "execution_count": null,
      "metadata": {
        "collapsed": false
      },
      "outputs": [],
      "source": [
        "p=pv.Plotter()\np.add_mesh(ebs.kpoints, color='blue', render_points_as_spheres=True)\np.show()"
      ]
    },
    {
      "cell_type": "markdown",
      "metadata": {},
      "source": [
        "# Other properties\r\n\r\n# Bands\r\n"
      ]
    },
    {
      "cell_type": "code",
      "execution_count": null,
      "metadata": {
        "collapsed": false
      },
      "outputs": [],
      "source": [
        "kpoints=pv.PolyData(ebs.kpoints)\nkpoints['band_0']=ebs.bands[:,0,0]\n\np=pv.Plotter()\np.add_mesh(kpoints, color='blue', scalars='band_0', render_points_as_spheres=True, point_size=10)\np.show()"
      ]
    },
    {
      "cell_type": "markdown",
      "metadata": {},
      "source": [
        "# Projections\r\n"
      ]
    },
    {
      "cell_type": "code",
      "execution_count": null,
      "metadata": {
        "collapsed": false
      },
      "outputs": [],
      "source": [
        "print(ebs.projected.shape)\nkpoints['band_0-atom_0-orbital_5-spin-0']=ebs.projected[:,0,0,0,4,0]\n\np=pv.Plotter()\np.add_mesh(kpoints, color='blue', scalars='band_0-atom_0-orbital_5-spin-0', render_points_as_spheres=True, point_size=10)\np.show()"
      ]
    },
    {
      "cell_type": "markdown",
      "metadata": {},
      "source": [
        "# Gradients\r\n"
      ]
    },
    {
      "cell_type": "code",
      "execution_count": null,
      "metadata": {
        "collapsed": false
      },
      "outputs": [],
      "source": [
        "print(ebs.bands_gradient.shape)\nkpoints['band_0-gradients']=ebs.bands_gradient[:,:,0,0]\n\n# Use the Glyph filter to generate arrows for the vectors\narrows = kpoints.glyph(orient='band_0-gradients', scale=False, factor=0.08)\np=pv.Plotter()\np.add_mesh(arrows,scalar_bar_args={'title':'band_0-band_velocity'})\np.show()"
      ]
    },
    {
      "cell_type": "markdown",
      "metadata": {},
      "source": [
        "# Band/Fermi velocities\r\n"
      ]
    },
    {
      "cell_type": "code",
      "execution_count": null,
      "metadata": {
        "collapsed": false
      },
      "outputs": [],
      "source": [
        "print(ebs.fermi_velocity.shape)\nkpoints['band_0-band_velocity']=ebs.fermi_velocity[:,:,0,0]\nkpoints['band_0-band_speed']=ebs.fermi_speed[:,0,0]\n\narrows = kpoints.glyph(orient='band_0-band_velocity', scale=False, factor=0.08)\np=pv.Plotter()\np.add_mesh(kpoints, scalars='band_0-band_speed', render_points_as_spheres=True, point_size=0.1,show_scalar_bar=False)\np.add_mesh(arrows,scalar_bar_args={'title':'band_0-band_velocity'})\np.show()"
      ]
    },
    {
      "cell_type": "markdown",
      "metadata": {},
      "source": [
        "# Effective mass\r\n"
      ]
    },
    {
      "cell_type": "code",
      "execution_count": null,
      "metadata": {
        "collapsed": false
      },
      "outputs": [],
      "source": [
        "print(ebs.harmonic_average_effective_mass.shape)\nkpoints['band_0-harmonic_average_effective_mass']=ebs.harmonic_average_effective_mass[:,0,0]\n\np=pv.Plotter()\np.add_mesh(kpoints, scalars='band_0-harmonic_average_effective_mass', render_points_as_spheres=True, point_size=10)\np.show()"
      ]
    }
  ],
  "metadata": {
    "kernelspec": {
      "display_name": "Python 3",
      "language": "python",
      "name": "python3"
    },
    "language_info": {
      "codemirror_mode": {
        "name": "ipython",
        "version": 3
      },
      "file_extension": ".py",
      "mimetype": "text/x-python",
      "name": "python",
      "nbconvert_exporter": "python",
      "pygments_lexer": "ipython3",
      "version": "3.8.17"
    }
  },
  "nbformat": 4,
  "nbformat_minor": 0
}