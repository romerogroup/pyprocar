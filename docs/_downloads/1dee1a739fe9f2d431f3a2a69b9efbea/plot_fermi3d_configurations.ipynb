{
  "cells": [
    {
      "cell_type": "markdown",
      "metadata": {},
      "source": [
        "\n\n# Plotting with Configurations in `pyprocar`\n\nThis example illustrates how to utilize various configurations for plotting the 3D Fermi surface using the `pyprocar` package. It provides a structured way to explore and demonstrate different configurations for the `plot_fermi_surface` function. \n\nSymmetry does not currently work! Make sure for Fermi surface calculations to turn off symmetry.\n\n## Preparation\nBefore diving into plotting, we need to download the example files. Use the following code to do this. Once downloaded, specify the `data_dir` to point to the location of the downloaded data.\n\n.. code-block::\n   :caption: Downloading example\n\n    data_dir = pyprocar.download_example(save_dir='', \n                                material='Fe',\n                                code='vasp', \n                                spin_calc_type='non-spin-polarized',\n                                calc_type='fermi')\n"
      ]
    },
    {
      "cell_type": "code",
      "execution_count": null,
      "metadata": {
        "collapsed": false
      },
      "outputs": [],
      "source": [
        "import pyvista\n# You do not need this. This is to ensure an image is rendered off screen when generating example gallery.\npyvista.OFF_SCREEN = True\n\nimport os\nimport pyprocar\n\ndata_dir = f\"{pyprocar.utils.ROOT}{os.sep}data{os.sep}examples{os.sep}Fe{os.sep}vasp{os.sep}non-spin-polarized{os.sep}fermi\"\n\n# First create the FermiHandler object, this loads the data into memory. Then you can call class methods to plot.\n# Symmetry only works for specific space groups currently. \n# For the actual calculations turn off symmetry and set 'apply_symmetry'=False.\nfermiHandler = pyprocar.FermiHandler(\n                                    code=\"vasp\",\n                                    dirname=data_dir,\n                                    apply_symmetry=True)"
      ]
    },
    {
      "cell_type": "code",
      "execution_count": null,
      "metadata": {
        "collapsed": false
      },
      "outputs": [],
      "source": [
        "# Section 1: Plain Mode\n# ++++++++++++++++++++++++++++++++++++++++++++++++++++++++++++++++++++++++++++++\n#\n# This section demonstrates how to plot the 3D Fermi surface using default settings.\n\n\n# Section 1: Locating and Printing Configuration Files\n# ++++++++++++++++++++++++++++++++++++++++++++++++++++++++++++++++++++++++++++++\n#\n# This section demonstrates where the configuration files are located in the package.\n# It also shows how to print the configurations by setting print_plot_opts=True.\n#\n\n# Path to the configuration files in the package\nconfig_path = os.path.join(pyprocar.__path__[0], 'cfg')\nprint(f\"Configuration files are located at: {config_path}\")\n\nfermiHandler.plot_fermi_surface(mode=\"plain\",\n                                show=True,\n                                print_plot_opts=True)"
      ]
    },
    {
      "cell_type": "code",
      "execution_count": null,
      "metadata": {
        "collapsed": false
      },
      "outputs": [],
      "source": [
        "# Section 2: Parametric Mode with Custom Settings\n# ++++++++++++++++++++++++++++++++++++++++++++++++++++++++++++++++++++++++++++++\n#\n# This section demonstrates how to customize the appearance of the 3D Fermi surface in parametric mode.\n# We'll adjust the colormap, color limits, and other settings.\n\natoms=[0]\norbitals=[4,5,6,7,8]\nspins=[0]\nfermiHandler.plot_fermi_surface(mode=\"parametric\",\n                              atoms=atoms,\n                              orbitals=orbitals,\n                              spins=spins,\n                              surface_cmap='viridis',\n                              surface_clim=[0, 1],\n                              show=True)"
      ]
    }
  ],
  "metadata": {
    "kernelspec": {
      "display_name": "Python 3",
      "language": "python",
      "name": "python3"
    },
    "language_info": {
      "codemirror_mode": {
        "name": "ipython",
        "version": 3
      },
      "file_extension": ".py",
      "mimetype": "text/x-python",
      "name": "python",
      "nbconvert_exporter": "python",
      "pygments_lexer": "ipython3",
      "version": "3.9.20"
    }
  },
  "nbformat": 4,
  "nbformat_minor": 0
}