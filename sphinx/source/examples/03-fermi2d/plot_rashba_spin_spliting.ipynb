{
  "cells": [
    {
      "cell_type": "markdown",
      "metadata": {},
      "source": [
        "# Plotting rashba spin splitting {#ref_plotting_plotting_rashba_spin_spliting}\r\n\r\nPlotting rashba spin splitting example. From our first paper we had an\r\nexample to plot the different spin texture projections of BiSb at a\r\nconstant energy surface 0.60eV above the fermei level and -0.90ev below\r\nthe fermi level.\r\n\r\nFirst download the example files with the code below. Then replace\r\ndata_dir below.\r\n\r\n``` {caption=\"Downloading example\"}\r\ndata_dir = pyprocar.download_example(save_dir='', \r\n                            material='BiSb_monolayer',\r\n                            code='vasp', \r\n                            spin_calc_type='non-colinear',\r\n                            calc_type='fermi')\r\n```\r\n"
      ]
    },
    {
      "cell_type": "markdown",
      "metadata": {},
      "source": [
        "importing pyprocar and specifying local data_dir\r\n"
      ]
    },
    {
      "cell_type": "code",
      "execution_count": null,
      "metadata": {
        "collapsed": false
      },
      "outputs": [],
      "source": [
        "import os\nimport pyprocar\n\ndata_dir = f\"{pyprocar.utils.ROOT}{os.sep}data{os.sep}examples{os.sep}BiSb_monolayer{os.sep}vasp{os.sep}non-colinear{os.sep}fermi\""
      ]
    },
    {
      "cell_type": "markdown",
      "metadata": {},
      "source": [
        "# energy = 0.60 sx projection no arrows\r\n"
      ]
    },
    {
      "cell_type": "code",
      "execution_count": null,
      "metadata": {
        "collapsed": false
      },
      "outputs": [],
      "source": [
        "pyprocar.fermi2D(code = 'vasp',\n               dirname=data_dir,\n               energy=0.60,\n               spin_texture=True,\n               no_arrow=True,\n               spin_projection='x',\n               plot_color_bar=True)"
      ]
    },
    {
      "cell_type": "markdown",
      "metadata": {},
      "source": [
        "# energy = 0.60 sy projection no arrows\r\n"
      ]
    },
    {
      "cell_type": "code",
      "execution_count": null,
      "metadata": {
        "collapsed": false
      },
      "outputs": [],
      "source": [
        "pyprocar.fermi2D(code = 'vasp',\n               dirname=data_dir,\n               energy=0.60,\n               spin_texture=True,\n               no_arrow=True,\n               spin_projection='y',\n               plot_color_bar=True)"
      ]
    },
    {
      "cell_type": "markdown",
      "metadata": {},
      "source": [
        "# energy = 0.60 sz projection no arrows\r\n"
      ]
    },
    {
      "cell_type": "code",
      "execution_count": null,
      "metadata": {
        "collapsed": false
      },
      "outputs": [],
      "source": [
        "pyprocar.fermi2D(code = 'vasp',\n               dirname=data_dir,\n               energy=0.60,\n               spin_texture=True,\n               no_arrow=True,\n               spin_projection='z',\n               plot_color_bar=True)"
      ]
    },
    {
      "cell_type": "markdown",
      "metadata": {},
      "source": [
        "# energy = -0.90 sx projection no arrows\r\n"
      ]
    },
    {
      "cell_type": "code",
      "execution_count": null,
      "metadata": {
        "collapsed": false
      },
      "outputs": [],
      "source": [
        "pyprocar.fermi2D(code = 'vasp',\n               dirname=data_dir,\n               energy=-0.90,\n               spin_texture=True,\n               no_arrow=True,\n               spin_projection='x',\n               plot_color_bar=True)"
      ]
    },
    {
      "cell_type": "markdown",
      "metadata": {},
      "source": [
        "# energy = -0.90 sy projection no arrows\r\n"
      ]
    },
    {
      "cell_type": "code",
      "execution_count": null,
      "metadata": {
        "collapsed": false
      },
      "outputs": [],
      "source": [
        "pyprocar.fermi2D(code = 'vasp',\n               dirname=data_dir,\n               energy=-0.90,\n               spin_texture=True,\n               no_arrow=True,\n               spin_projection='y',\n               plot_color_bar=True)"
      ]
    },
    {
      "cell_type": "markdown",
      "metadata": {},
      "source": [
        "# energy = -0.90 sz projection no arrows\r\n"
      ]
    },
    {
      "cell_type": "code",
      "execution_count": null,
      "metadata": {
        "collapsed": false
      },
      "outputs": [],
      "source": [
        "pyprocar.fermi2D(code = 'vasp',\n               dirname=data_dir,\n               energy=-0.90,\n               spin_texture=True,\n               no_arrow=True,\n               spin_projection='z',\n               plot_color_bar=True)"
      ]
    },
    {
      "cell_type": "markdown",
      "metadata": {},
      "source": [
        "# energy = 0.60 sx projection with arrows\r\n"
      ]
    },
    {
      "cell_type": "code",
      "execution_count": null,
      "metadata": {
        "collapsed": false
      },
      "outputs": [],
      "source": [
        "pyprocar.fermi2D(code = 'vasp',\n               dirname=data_dir,\n               energy=0.60,\n               spin_texture=True,\n               spin_projection='x',\n               arrow_size=3,\n               arrow_density=6,\n               plot_color_bar=True)"
      ]
    },
    {
      "cell_type": "markdown",
      "metadata": {},
      "source": [
        "# energy = -0.90 sx projection with arrows\r\n"
      ]
    },
    {
      "cell_type": "code",
      "execution_count": null,
      "metadata": {
        "collapsed": false
      },
      "outputs": [],
      "source": [
        "pyprocar.fermi2D(code = 'vasp',\n               dirname=data_dir,\n               energy=-0.90,\n               spin_texture=True,\n               spin_projection='x',\n               arrow_size=3,\n               arrow_density=6,\n               plot_color_bar=True)"
      ]
    }
  ],
  "metadata": {
    "kernelspec": {
      "display_name": "Python 3",
      "language": "python",
      "name": "python3"
    },
    "language_info": {
      "codemirror_mode": {
        "name": "ipython",
        "version": 3
      },
      "file_extension": ".py",
      "mimetype": "text/x-python",
      "name": "python",
      "nbconvert_exporter": "python",
      "pygments_lexer": "ipython3",
      "version": "3.8.17"
    }
  },
  "nbformat": 4,
  "nbformat_minor": 0
}