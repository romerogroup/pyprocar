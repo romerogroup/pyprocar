{
  "cells": [
    {
      "cell_type": "markdown",
      "metadata": {},
      "source": [
        "# Plotting Atomic Levels {#ref_plotting_atomic_levels}\r\n\r\nThis example illustrates how to plot atomic energy levels for the\r\ncompound hBN-CNCN at the GAMMA point using the [pyprocar]{.title-ref}\r\npackage.\r\n\r\n## Preparation\r\n\r\nBefore diving into plotting, we need to download the example files. Use\r\nthe following code to do this. Once downloaded, specify the\r\n[data_dir]{.title-ref} to point to the location of the downloaded data.\r\n\r\n``` {caption=\"Downloading example\"}\r\nimport pyprocar\r\n\r\ndata_dir = pyprocar.download_example(\r\n                            save_dir='', \r\n                            material='hBN-CNN',\r\n                            code='vasp', \r\n                            spin_calc_type='spin-polarized-colinear',\r\n                            calc_type='gamma'\r\n                           )\r\n```\r\n"
      ]
    },
    {
      "cell_type": "markdown",
      "metadata": {},
      "source": [
        "# Setting up the environment\r\n\r\nFirst, we will import the necessary libraries and set up our data\r\ndirectory path.\r\n"
      ]
    },
    {
      "cell_type": "code",
      "execution_count": null,
      "metadata": {
        "collapsed": false
      },
      "outputs": [],
      "source": [
        "import os\nimport pyprocar\n\n# Define the directory containing the example data\ndata_dir = f\"{pyprocar.utils.ROOT}{os.sep}data{os.sep}examples{os.sep}hBN-CNCN\""
      ]
    },
    {
      "cell_type": "markdown",
      "metadata": {},
      "source": [
        "# Plotting in Atomic Mode\r\n\r\nThe atomic mode is used to plot the energy levels at a specific k-point.\r\nIn this example, we focus on the GAMMA point. The plot will display\r\nenergy levels for specific atoms in the range of -6 to 6 eV.\r\n"
      ]
    },
    {
      "cell_type": "code",
      "execution_count": null,
      "metadata": {
        "collapsed": false
      },
      "outputs": [],
      "source": [
        "# Define the atom indices we're interested in\natoms = [96, 97, 0, 1, 2, 3, 42, 44]\n\n# Plot the atomic bands\npyprocar.bandsplot(\n    code='vasp',  # Specify the DFT code used. In this case, it's VASP.\n    dirname=data_dir,\n    mode='atomic',\n    elimit=[-6, 6],  # Energy range for the plot\n    clim=[-0.4, 0.4],  # Color limit for the plot\n    atoms=atoms,  # Atoms for which we want to plot the energy levels\n)"
      ]
    }
  ],
  "metadata": {
    "kernelspec": {
      "display_name": "Python 3",
      "language": "python",
      "name": "python3"
    },
    "language_info": {
      "codemirror_mode": {
        "name": "ipython",
        "version": 3
      },
      "file_extension": ".py",
      "mimetype": "text/x-python",
      "name": "python",
      "nbconvert_exporter": "python",
      "pygments_lexer": "ipython3",
      "version": "3.8.17"
    }
  },
  "nbformat": 4,
  "nbformat_minor": 0
}