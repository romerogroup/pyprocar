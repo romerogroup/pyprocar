{
  "cells": [
    {
      "cell_type": "markdown",
      "metadata": {},
      "source": [
        "# Example of finding the bandgap {#ref_example_bandgap}\r\n\r\nThe bandgap of a calculation can be found by:\r\n\r\n``` {caption=\"General Format\"}\r\npyprocar.bandgap(procar=\"PROCAR\", outcar=\"OUTCAR\", code=\"vasp\")\r\n```\r\n\r\nNOTE: The bandgap calculation should be done for non-self consistent\r\n(band structure) calculations.\r\n\r\n``` {caption=\"Downloading example\"}\r\ndata_dir = pyprocar.download_example(save_dir='', \r\n                            material='Fe',\r\n                            code='vasp', \r\n                            spin_calc_type='non-spin-polarized',\r\n                            calc_type='bands')\r\n```\r\n"
      ]
    },
    {
      "cell_type": "code",
      "execution_count": null,
      "metadata": {
        "collapsed": false
      },
      "outputs": [],
      "source": [
        "# sphinx_gallery_thumbnail_number = 1"
      ]
    },
    {
      "cell_type": "markdown",
      "metadata": {},
      "source": [
        "importing pyprocar and specifying local data_dir\r\n"
      ]
    },
    {
      "cell_type": "code",
      "execution_count": null,
      "metadata": {
        "collapsed": false
      },
      "outputs": [],
      "source": [
        "import os\nimport numpy as np\nimport pyprocar\n\ndata_dir = f\"{pyprocar.utils.ROOT}{os.sep}data{os.sep}examples{os.sep}Fe{os.sep}vasp{os.sep}non-spin-polarized{os.sep}bands\"\n\nband_gap = pyprocar.bandgap(dirname=data_dir, code=\"vasp\")"
      ]
    }
  ],
  "metadata": {
    "kernelspec": {
      "display_name": "Python 3",
      "language": "python",
      "name": "python3"
    },
    "language_info": {
      "codemirror_mode": {
        "name": "ipython",
        "version": 3
      },
      "file_extension": ".py",
      "mimetype": "text/x-python",
      "name": "python",
      "nbconvert_exporter": "python",
      "pygments_lexer": "ipython3",
      "version": "3.8.17"
    }
  },
  "nbformat": 4,
  "nbformat_minor": 0
}