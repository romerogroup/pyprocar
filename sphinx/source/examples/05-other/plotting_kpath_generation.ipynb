{
  "cells": [
    {
      "cell_type": "markdown",
      "metadata": {},
      "source": [
        "# Example of kpath_generator {#ref_example_kpath_generator}\r\n\r\nIn order to plot a band structure, one must define a set of $k$-points\r\nfollowing a desired $k$-path in momentum space. PyProcar\\'s $k$-path\r\ngeneration utility enables a the user to automatically generate a\r\nsuitable and sufficient $k$-path given the crystal structure, typically\r\nread from the POSCAR file (VASP).\r\n\r\n``` {caption=\"General Format\"}\r\npyprocar.kpath(infile, outfile, grid-size, with-time-reversal, recipe, threshold, symprec, angle-tolerance,supercell_matrix)\r\n```\r\n\r\nFirst download the example files with the code below. Then replace\r\ndata_dir below.\r\n\r\n``` {caption=\"Downloading example\"}\r\ndata_dir = pyprocar.download_example(save_dir='', \r\n                            material='Fe',\r\n                            code='vasp', \r\n                            spin_calc_type='non-spin-polarized',\r\n                            calc_type='bands')\r\n```\r\n\r\nThis information is automatically written to a KPOINTS file. The\r\nretrieved $k$-path can be used for other DFT codes with slight\r\nmodifications.\r\n\r\nMore details regarding these parameters can be found in the [SeeK-path\r\nmanual](https://seekpath.readthedocs.io/en/latest/module_guide/index.html).\r\nThe $k$-path generation utility within PyProcar is based on the Python\r\nlibrary **seekpath** developed by Hinuma et al:\r\n\r\n    Y. Hinuma, G. Pizzi, Y. Kumagai, F. Oba, I. Tanaka, Band structure diagram paths based on crystallography, Computational Materials Science 128 (2017) 140\u2013184.doi:10.1016/j.commatsci.2016.10.015.\r\n"
      ]
    },
    {
      "cell_type": "code",
      "execution_count": null,
      "metadata": {
        "collapsed": false
      },
      "outputs": [],
      "source": [
        "# sphinx_gallery_thumbnail_number = 1"
      ]
    },
    {
      "cell_type": "markdown",
      "metadata": {},
      "source": [
        "# Plotting K Path\r\n"
      ]
    },
    {
      "cell_type": "code",
      "execution_count": null,
      "metadata": {
        "collapsed": false
      },
      "outputs": [],
      "source": [
        "import pyvista\n# You do not need this. This is to ensure an image is rendered off screen when generating exmaple gallery.\npyvista.OFF_SCREEN = True"
      ]
    },
    {
      "cell_type": "markdown",
      "metadata": {},
      "source": [
        "importing pyprocar and specifying local data_dir\r\n"
      ]
    },
    {
      "cell_type": "code",
      "execution_count": null,
      "metadata": {
        "collapsed": false
      },
      "outputs": [],
      "source": [
        "import os\nimport numpy as np\nimport pyprocar\n\n\n\ndata_dir = f\"{pyprocar.utils.ROOT}{os.sep}data{os.sep}examples{os.sep}Fe{os.sep}vasp{os.sep}spin-polarized-colinear{os.sep}bands\"\nposcar = f\"{data_dir}{os.sep}POSCAR\"\n\nk_path, k_labels = pyprocar.kpath(poscar,'KPOINTS',40,True,'hpkot',1e-07,1e-05,-1.0,np.eye(3))\n\n\n# Getting unique points for plotting\nunique_labels = []\nunique_kpath= []\nfor i,k_label in enumerate(k_labels):\n    if k_label not in  unique_labels:\n        unique_labels.append(k_label)\n        unique_kpath.append(k_path[i])\n\n\nplotter=pyvista.Plotter()\n\n# plotting connecting lines\nfor ik,points in enumerate(k_path):\n    if ik == len(k_path) - 1:\n        plotter.add_lines(np.array([k_path[ik-1],k_path[ik]]), color='red', width = 10)\n    else:\n        plotter.add_lines(np.array([k_path[ik],k_path[ik+1]]), color='red', width = 10 )\n\n# plotting points and labels\nplotter.add_point_labels(unique_kpath, unique_labels, point_color = 'blue', text_color='blue', render_points_as_spheres=True, point_size=20, font_size=36, always_visible=True)\nplotter.show_axes()\nplotter.show_grid()\nplotter.view_yz()\nplotter.show()"
      ]
    }
  ],
  "metadata": {
    "kernelspec": {
      "display_name": "Python 3",
      "language": "python",
      "name": "python3"
    },
    "language_info": {
      "codemirror_mode": {
        "name": "ipython",
        "version": 3
      },
      "file_extension": ".py",
      "mimetype": "text/x-python",
      "name": "python",
      "nbconvert_exporter": "python",
      "pygments_lexer": "ipython3",
      "version": "3.8.17"
    }
  },
  "nbformat": 4,
  "nbformat_minor": 0
}