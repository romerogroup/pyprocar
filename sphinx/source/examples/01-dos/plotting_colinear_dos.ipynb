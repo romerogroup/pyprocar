{
  "cells": [
    {
      "cell_type": "markdown",
      "metadata": {},
      "source": [
        "# Plotting density of states {#ref_plotting_colinear_dos}\r\n\r\nPlotting density example.\r\n\r\nFirst download the example files with the code below. Then replace\r\ndata_dir below.\r\n\r\n``` {caption=\"Downloading example\"}\r\ndata_dir = pyprocar.download_example(save_dir='', \r\n                            material='Fe',\r\n                            code='qe', \r\n                            spin_calc_type='non-spin-polarized',\r\n                            calc_type='dos')\r\n```\r\n"
      ]
    },
    {
      "cell_type": "markdown",
      "metadata": {},
      "source": [
        "importing pyprocar and specifying local data_dir\r\n"
      ]
    },
    {
      "cell_type": "code",
      "execution_count": null,
      "metadata": {
        "collapsed": false
      },
      "outputs": [],
      "source": [
        "import os\nimport pyprocar\n\ndata_dir = f\"{pyprocar.utils.ROOT}{os.sep}data{os.sep}examples{os.sep}Fe{os.sep}qe{os.sep}non-spin-polarized{os.sep}dos\""
      ]
    },
    {
      "cell_type": "markdown",
      "metadata": {},
      "source": [
        "# Plain mode\r\n"
      ]
    },
    {
      "cell_type": "code",
      "execution_count": null,
      "metadata": {
        "collapsed": false
      },
      "outputs": [],
      "source": [
        "pyprocar.dosplot(\n                code='qe', \n                mode='plain',\n                dirname=data_dir)"
      ]
    },
    {
      "cell_type": "markdown",
      "metadata": {},
      "source": [
        "# Parametric mode\r\n\r\nFor details on the meaning of the indices of the atomic projection\r\nplease refer to the user guide :ref:\\'atomic_projections\\'\r\n"
      ]
    },
    {
      "cell_type": "code",
      "execution_count": null,
      "metadata": {
        "collapsed": false
      },
      "outputs": [],
      "source": [
        "atoms=[0]\norbitals=[4,5,6,7,8]\nspins=[0]\n\npyprocar.dosplot(\n                code='qe', \n                mode='parametric',\n                atoms=atoms,\n                orbitals=orbitals,\n                spins=spins,\n                dirname=data_dir)"
      ]
    },
    {
      "cell_type": "markdown",
      "metadata": {},
      "source": [
        "# parametric_line mode\r\n\r\nFor details on the meaning of the indices of the atomic projection\r\nplease refer to the user guide :ref:\\'atomic_projections\\'\r\n"
      ]
    },
    {
      "cell_type": "code",
      "execution_count": null,
      "metadata": {
        "collapsed": false
      },
      "outputs": [],
      "source": [
        "atoms=[0]\norbitals=[4,5,6,7,8]\nspins=[0]\n\npyprocar.dosplot(\n                code='qe', \n                mode='parametric_line',\n                atoms=atoms,\n                orbitals=orbitals,\n                spins=spins,\n                dirname=data_dir)"
      ]
    },
    {
      "cell_type": "markdown",
      "metadata": {},
      "source": [
        "# stack_species mode\r\n"
      ]
    },
    {
      "cell_type": "code",
      "execution_count": null,
      "metadata": {
        "collapsed": false
      },
      "outputs": [],
      "source": [
        "orbitals=[4,5,6,7,8]\nspins=[0]\n\npyprocar.dosplot(\n                code='qe', \n                mode='stack_species',\n                orbitals=orbitals,\n                spins=spins,\n                dirname=data_dir)"
      ]
    },
    {
      "cell_type": "markdown",
      "metadata": {},
      "source": [
        "# stack_orbtials mode\r\n"
      ]
    },
    {
      "cell_type": "code",
      "execution_count": null,
      "metadata": {
        "collapsed": false
      },
      "outputs": [],
      "source": [
        "atoms=[0]\nspins=[0]\npyprocar.dosplot(\n                code='qe', \n                mode='stack_orbitals',\n                atoms=atoms,\n                spins=spins,\n                dirname=data_dir)"
      ]
    },
    {
      "cell_type": "markdown",
      "metadata": {},
      "source": [
        "# overlay mode\r\n"
      ]
    },
    {
      "cell_type": "code",
      "execution_count": null,
      "metadata": {
        "collapsed": false
      },
      "outputs": [],
      "source": [
        "items={'Fe':[4,5,6,7,8]}\npyprocar.dosplot(\n                code='qe', \n                mode='stack',\n                items=items,\n                dirname=data_dir)"
      ]
    }
  ],
  "metadata": {
    "kernelspec": {
      "display_name": "Python 3",
      "language": "python",
      "name": "python3"
    },
    "language_info": {
      "codemirror_mode": {
        "name": "ipython",
        "version": 3
      },
      "file_extension": ".py",
      "mimetype": "text/x-python",
      "name": "python",
      "nbconvert_exporter": "python",
      "pygments_lexer": "ipython3",
      "version": "3.8.17"
    }
  },
  "nbformat": 4,
  "nbformat_minor": 0
}