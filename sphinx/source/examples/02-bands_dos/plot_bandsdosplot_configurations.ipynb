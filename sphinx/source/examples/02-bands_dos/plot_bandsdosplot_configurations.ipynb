{
  "cells": [
    {
      "cell_type": "markdown",
      "metadata": {},
      "source": [
        "# Plotting bandsdosplot {#ref_plot_bandsdosplot_configurations}\r\n\r\nThis example illustrates how to utilize various configurations for\r\nplotting both band structures and density of states (DOS) side by side\r\nusing the [pyprocar]{.title-ref} package. It provides a structured way\r\nto explore and demonstrate different configurations for the\r\n[bandsdosplot]{.title-ref} function.\r\n\r\n## Preparation\r\n\r\nBefore diving into plotting, we need to download the example files. Use\r\nthe following code to do this. Once downloaded, specify the\r\n[bands_dir]{.title-ref} and [dos_dir]{.title-ref} to point to the\r\nlocation of the downloaded data.\r\n\r\n``` {caption=\"Downloading example\"}\r\nbands_dir = pyprocar.download_example(save_dir='', \r\n                             material='Fe',\r\n                             code='vasp', \r\n                             spin_calc_type='non-spin-polarized',\r\n                             calc_type='bands')\r\n\r\ndos_dir = pyprocar.download_example(save_dir='', \r\n                             material='Fe',\r\n                             code='vasp', \r\n                             spin_calc_type='non-spin-polarized',\r\n                             calc_type='dos')\r\n```\r\n"
      ]
    },
    {
      "cell_type": "code",
      "execution_count": null,
      "metadata": {
        "collapsed": false
      },
      "outputs": [],
      "source": [
        "import os\nimport pyprocar\n\nbands_dir = f\"{pyprocar.utils.ROOT}{os.sep}data{os.sep}examples{os.sep}Fe{os.sep}vasp{os.sep}non-spin-polarized{os.sep}bands\"\ndos_dir = f\"{pyprocar.utils.ROOT}{os.sep}data{os.sep}examples{os.sep}Fe{os.sep}vasp{os.sep}non-spin-polarized{os.sep}dos\""
      ]
    },
    {
      "cell_type": "code",
      "execution_count": null,
      "metadata": {
        "collapsed": false
      },
      "outputs": [],
      "source": [
        "# Section 1: Plain Mode with Default Settings\n# ++++++++++++++++++++++++++++++++++++++++++++++++++++++++++++++++++++++++++++++\n#\n# This section demonstrates how to plot both band structures and DOS side by side using default settings.\n# The keywords that work for `bandsplot` and `dosplot` will also work in `bandsdosplot`. \n# These keyword arguments can be set in `bands_settings` and `dos_settings` as demonstrated below.\n#\n\nbands_settings = {'mode':'plain',\n                'dirname': bands_dir}\n\ndos_settings = {'mode':'plain',\n                'dirname': dos_dir}\n\npyprocar.bandsdosplot(code='vasp',\n                bands_settings=bands_settings,\n                dos_settings=dos_settings,\n                )"
      ]
    },
    {
      "cell_type": "code",
      "execution_count": null,
      "metadata": {
        "collapsed": false
      },
      "outputs": [],
      "source": [
        "# Section 2: Customizing Bands and DOS Plots\n# ++++++++++++++++++++++++++++++++++++++++++++++++++++++++++++++++++++++++++++++\n#\n# This section demonstrates how to customize the appearance of both the band structures and DOS plots.\n# We'll adjust the colormap, color limits, Fermi line properties, and other settings.\n#\n\nbands_settings = {\n    'mode': 'scatter',\n    'dirname': bands_dir,\n    'atoms':[0],\n    'orbitals':[4,5,6,7,8],\n    'cmap': 'viridis',\n    'clim': [0, 1],\n    'fermi_color': 'red',\n    'fermi_linestyle': '--',\n    'fermi_linewidth': 2.0\n}\n\ndos_settings = {\n    'mode': 'parametric',\n    'dirname': dos_dir,\n    'atoms':[0],\n    'orbitals':[4,5,6,7,8],\n    'cmap': 'viridis',\n    'clim': [0, 1],\n    'marker': ['v', 'o'],\n    'markersize': [10, 5]\n}\n\npyprocar.bandsdosplot(code='vasp',\n                bands_settings=bands_settings,\n                dos_settings=dos_settings,\n                )"
      ]
    },
    {
      "cell_type": "code",
      "execution_count": null,
      "metadata": {
        "collapsed": false
      },
      "outputs": [],
      "source": [
        "# Section 3: Adjusting Figure Size and DPI\n# ++++++++++++++++++++++++++++++++++++++++++++++++++++++++++++++++++++++++++++++\n#\n# This section demonstrates how to adjust the overall figure size and dots per inch (DPI) for the combined plot.\n#\n\nbands_settings = {\n    'mode': 'scatter',\n    'dirname': bands_dir\n}\n\ndos_settings = {\n    'mode': 'parametric',\n    'dirname': dos_dir\n}\n\npyprocar.bandsdosplot(code='vasp',\n                bands_settings=bands_settings,\n                dos_settings=dos_settings,\n                figure_size=(12, 7),\n                dpi=300\n                )"
      ]
    }
  ],
  "metadata": {
    "kernelspec": {
      "display_name": "Python 3",
      "language": "python",
      "name": "python3"
    },
    "language_info": {
      "codemirror_mode": {
        "name": "ipython",
        "version": 3
      },
      "file_extension": ".py",
      "mimetype": "text/x-python",
      "name": "python",
      "nbconvert_exporter": "python",
      "pygments_lexer": "ipython3",
      "version": "3.8.17"
    }
  },
  "nbformat": 4,
  "nbformat_minor": 0
}