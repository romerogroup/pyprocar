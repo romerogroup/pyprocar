{
  "cells": [
    {
      "cell_type": "markdown",
      "metadata": {},
      "source": [
        "# Finding defects in a POSCAR file {#ref_example_finding_defect}\r\n\r\nIn this example, we\\'ll demonstrate how to automatically find defects in\r\na POSCAR file\r\n\r\nLet\\'s get started!\r\n"
      ]
    },
    {
      "cell_type": "code",
      "execution_count": null,
      "metadata": {
        "collapsed": false
      },
      "outputs": [],
      "source": [
        "import os\nfrom itertools import product\nimport pyprocar.pyposcar as p\nimport numpy as np\nimport pyvista as pv\nfrom pyprocar.utils import ROOT\n\ndata_dir=os.path.join(ROOT,'data','examples','PyPoscar','03-defects')\n# You do not need this. This is to ensure an image is rendered off screen when generating exmaple gallery.\npv.OFF_SCREEN = True"
      ]
    },
    {
      "cell_type": "markdown",
      "metadata": {},
      "source": [
        "# Utility function for creating GIF visualizations\r\n"
      ]
    },
    {
      "cell_type": "code",
      "execution_count": null,
      "metadata": {
        "collapsed": false
      },
      "outputs": [],
      "source": [
        "def create_gif(atoms, labels, unit_cell, save_file):\n    plotter = pv.Plotter()\n    title = save_file.split(os.sep)[-1].split('.')[0]\n    plotter.add_title(title)\n    plotter.add_mesh(unit_cell.delaunay_3d().extract_feature_edges(), color='black', line_width=5, render_lines_as_tubes=True)\n    plotter.add_point_labels(points=atoms.points, labels=labels, show_points=False, always_visible=True)\n    plotter.add_mesh(atoms, scalars='atoms', point_size=30, render_points_as_spheres=True, show_scalar_bar=False)\n    path = plotter.generate_orbital_path(n_points=36)\n    plotter.open_gif(os.path.join(data_dir, save_file))\n    plotter.orbit_on_path(path, write_frames=True, viewup=[0, 0, 1], step=0.05)\n    plotter.close()"
      ]
    },
    {
      "cell_type": "markdown",
      "metadata": {},
      "source": [
        "# Finding defects\r\n"
      ]
    },
    {
      "cell_type": "code",
      "execution_count": null,
      "metadata": {
        "collapsed": false
      },
      "outputs": [],
      "source": [
        "print('Loading an AGNR with a defect in it')\na = p.poscar.Poscar(os.path.join(data_dir,\"POSCAR-AGNR-defect.vasp\"), verbose=False)\na.parse()\n\ndefects = p.defects.FindDefect(a)\nprint('The defects are:')\nprint(defects.all_defects)\n\nprint('\\n\\nThe warning above indicates that there are two different types of defects')\n\nprint('saving a file with the defects, defects.vasp')\ndefects.write_defects(filename=os.path.join(data_dir,'defects.vasp'))\nprint('Inspection of the file defects.vasp shows that the first type of defects are subtitutionals (0D), and the second are the AGRN edges (1D)')\n\n\ntmp_a = p.Poscar(os.path.join(data_dir, \"POSCAR-AGNR-defect.vasp\"))\ntmp_a.parse()\n\n# Convert positions to Cartesian coordinates for visualization\natoms_before = pv.PolyData(np.dot(tmp_a.dpos, tmp_a.lat))\natoms_before['atoms'] = tmp_a.elm\nlabels_before = [elm for elm, point in zip(tmp_a.elm, tmp_a.dpos)]\n# Define the unit cell using lattice vectors\nunit_cell_comb = list(product([0, 1], repeat=3))\nunit_cell = np.array([comb[0]*tmp_a.lat[0] + comb[1]*tmp_a.lat[1] + comb[2]*tmp_a.lat[2] for comb in unit_cell_comb])\nunit_cell_before = pv.PolyData(unit_cell)\n\ntmp_a = p.Poscar(os.path.join(data_dir, \"defects.vasp\"))\ntmp_a.parse()\n\n# Convert positions to Cartesian coordinates for visualization\natoms_after = pv.PolyData(np.dot(tmp_a.dpos, tmp_a.lat))\natoms_after['atoms'] = tmp_a.elm\nlabels_after = [elm for elm, point in zip(tmp_a.elm, tmp_a.dpos)]\n# Define the unit cell using lattice vectors\nunit_cell_comb = list(product([0, 1], repeat=3))\nunit_cell = np.array([comb[0]*tmp_a.lat[0] + comb[1]*tmp_a.lat[1] + comb[2]*tmp_a.lat[2] for comb in unit_cell_comb])\nunit_cell_after = pv.PolyData(unit_cell)\n\ncreate_gif(atoms=atoms_before, labels=labels_before, unit_cell=unit_cell_before, save_file='atoms_before_defect_finding.gif')\ncreate_gif(atoms=atoms_after, labels=labels_after, unit_cell=unit_cell_after, save_file='atoms_after_defect_finding.gif')"
      ]
    }
  ],
  "metadata": {
    "kernelspec": {
      "display_name": "Python 3",
      "language": "python",
      "name": "python3"
    },
    "language_info": {
      "codemirror_mode": {
        "name": "ipython",
        "version": 3
      },
      "file_extension": ".py",
      "mimetype": "text/x-python",
      "name": "python",
      "nbconvert_exporter": "python",
      "pygments_lexer": "ipython3",
      "version": "3.8.17"
    }
  },
  "nbformat": 4,
  "nbformat_minor": 0
}