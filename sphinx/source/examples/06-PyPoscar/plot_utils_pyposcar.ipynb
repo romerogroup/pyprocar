{
  "cells": [
    {
      "cell_type": "markdown",
      "metadata": {},
      "source": [
        "# Modifying a POSCAR File: Scaling, Supercells, and Defects {#ref_example_poscar_modifications}\r\n\r\nIn this example, we\\'ll demonstrate several modifications on a POSCAR\r\nfile using the [pyprocar]{.title-ref} package:\r\n\r\n1.  Scaling the lattice vectors to reduce vacuum space.\r\n2.  Generating a supercell.\r\n3.  Introducing defects by changing atom types.\r\n\r\nLet\\'s get started!\r\n"
      ]
    },
    {
      "cell_type": "code",
      "execution_count": null,
      "metadata": {
        "collapsed": false
      },
      "outputs": [],
      "source": [
        "import os\nfrom itertools import product\nimport pyprocar.pyposcar as p\nimport numpy as np\nimport pyvista as pv\nfrom pyprocar.utils import ROOT\n\ndata_dir=os.path.join(ROOT,'data','examples','PyPoscar','01-poscar_utils')\n# You do not need this. This is to ensure an image is rendered off screen when generating exmaple gallery.\npv.OFF_SCREEN = True"
      ]
    },
    {
      "cell_type": "markdown",
      "metadata": {},
      "source": [
        "# Utility function for creating GIF visualizations\r\n"
      ]
    },
    {
      "cell_type": "code",
      "execution_count": null,
      "metadata": {
        "collapsed": false
      },
      "outputs": [],
      "source": [
        "def create_gif(atoms, labels, unit_cell, save_file):\n    plotter = pv.Plotter()\n    title = save_file.split(os.sep)[-1].split('.')[0]\n    plotter.add_title(title)\n    plotter.add_mesh(unit_cell.delaunay_3d().extract_feature_edges(), color='black', line_width=5, render_lines_as_tubes=True)\n    plotter.add_point_labels(points=atoms.points, labels=labels, show_points=False, always_visible=True)\n    plotter.add_mesh(atoms, scalars='atoms', point_size=30, render_points_as_spheres=True, show_scalar_bar=False)\n    path = plotter.generate_orbital_path(n_points=36)\n    plotter.open_gif(os.path.join(data_dir, save_file))\n    plotter.orbit_on_path(path, write_frames=True, viewup=[0, 0, 1], step=0.05)\n    plotter.close()"
      ]
    },
    {
      "cell_type": "markdown",
      "metadata": {},
      "source": [
        "# Scaling Vacuum Space in the Lattice\r\n"
      ]
    },
    {
      "cell_type": "code",
      "execution_count": null,
      "metadata": {
        "collapsed": false
      },
      "outputs": [],
      "source": [
        "a = p.poscarUtils.poscar_modify(os.path.join(data_dir, \"POSCAR-9AGNR.vasp\"), verbose=False)\nprint('the lattice has too much vacuum space\\n', a.p.lat)\nprint('I will shrink these vector by 1/3')\n\nscaling = np.array([1, 1/3, 1/3])\na.scale_lattice(factor=scaling, keep_cartesian=True)\na.write(os.path.join(data_dir,'POSCAR-9AGNR-smaller.vasp'))\nprint('New lattice\\n', a.p.lat)\n\ntmp_a = p.Poscar(os.path.join(data_dir, \"POSCAR-9AGNR.vasp\"))\ntmp_a.parse()\n\n# Convert positions to Cartesian coordinates for visualization\natoms_before = pv.PolyData(np.dot(tmp_a.dpos, tmp_a.lat))\natoms_before['atoms'] = tmp_a.elm\nlabels_before = [elm for elm, point in zip(tmp_a.elm, tmp_a.dpos)]\n# Define the unit cell using lattice vectors\nunit_cell_comb = list(product([0, 1], repeat=3))\nunit_cell = np.array([comb[0]*tmp_a.lat[0] + comb[1]*tmp_a.lat[1] + comb[2]*tmp_a.lat[2] for comb in unit_cell_comb])\nunit_cell_before = pv.PolyData(unit_cell)\n\ntmp_a = p.Poscar(os.path.join(data_dir, \"POSCAR-9AGNR-smaller.vasp\"))\ntmp_a.parse()\n\n# Convert positions to Cartesian coordinates for visualization\natoms_after = pv.PolyData(np.dot(tmp_a.dpos, tmp_a.lat))\natoms_after['atoms'] = tmp_a.elm\nlabels_after = [elm for elm, point in zip(tmp_a.elm, tmp_a.dpos)]\n# Define the unit cell using lattice vectors\nunit_cell_comb = list(product([0, 1], repeat=3))\nunit_cell = np.array([comb[0]*tmp_a.lat[0] + comb[1]*tmp_a.lat[1] + comb[2]*tmp_a.lat[2] for comb in unit_cell_comb])\nunit_cell_after = pv.PolyData(unit_cell)\n\ncreate_gif(atoms=atoms_before, labels=labels_before, unit_cell=unit_cell_before, save_file='atoms_before_scaling.gif')\ncreate_gif(atoms=atoms_after, labels=labels_after, unit_cell=unit_cell_after, save_file='atoms_after_scaling.gif')"
      ]
    },
    {
      "cell_type": "markdown",
      "metadata": {},
      "source": [
        "# Creating a Supercell\r\n"
      ]
    },
    {
      "cell_type": "code",
      "execution_count": null,
      "metadata": {
        "collapsed": false
      },
      "outputs": [],
      "source": [
        "print('\\n\\nNow I will make an supercell 3x1x1')\nb = p.poscarUtils.poscar_supercell(os.path.join(data_dir, \"POSCAR-9AGNR-smaller.vasp\"), verbose=False)\nsize = np.array([[3,0,0],[0,1,0],[0,0,1]])\nb.supercell(size = size)\nb.write(os.path.join(data_dir, 'POSCAR-9AGNR-311.vasp'))\nprint('It was saved as POSCAR-9AGNR-311.vasp')\n\n\ntmp_a = p.Poscar(os.path.join(data_dir, \"POSCAR-9AGNR-smaller.vasp\"))\ntmp_a.parse()\n\n# Convert positions to Cartesian coordinates for visualization\natoms_before = pv.PolyData(np.dot(tmp_a.dpos, tmp_a.lat))\natoms_before['atoms'] = tmp_a.elm\nlabels_before = [elm  for elm, point in zip(tmp_a.elm, tmp_a.dpos)]\n# Define the unit cell using lattice vectors\nunit_cell_comb = list(product([0, 1], repeat=3))\nunit_cell = np.array([comb[0]*tmp_a.lat[0] + comb[1]*tmp_a.lat[1] + comb[2]*tmp_a.lat[2] for comb in unit_cell_comb])\nunit_cell_before = pv.PolyData(unit_cell)\n\ntmp_a = p.Poscar(os.path.join(data_dir, \"POSCAR-9AGNR-311.vasp\"))\ntmp_a.parse()\n\n# Convert positions to Cartesian coordinates for visualization\natoms_after = pv.PolyData(np.dot(tmp_a.dpos, tmp_a.lat))\natoms_after['atoms'] = tmp_a.elm\nlabels_after = [elm for elm, point in zip(tmp_a.elm, tmp_a.dpos)]\n# Define the unit cell using lattice vectors\nunit_cell_comb = list(product([0, 1], repeat=3))\nunit_cell = np.array([comb[0]*tmp_a.lat[0] + comb[1]*tmp_a.lat[1] + comb[2]*tmp_a.lat[2] for comb in unit_cell_comb])\nunit_cell_after = pv.PolyData(unit_cell)\n\ncreate_gif(atoms=atoms_before, labels=labels_before, unit_cell=unit_cell_before, save_file='atoms_before_supercell.gif')\ncreate_gif(atoms=atoms_after, labels=labels_after, unit_cell=unit_cell_after, save_file='atoms_after_supercell.gif')"
      ]
    },
    {
      "cell_type": "markdown",
      "metadata": {},
      "source": [
        "# Introducing Defects\r\n"
      ]
    },
    {
      "cell_type": "code",
      "execution_count": null,
      "metadata": {
        "collapsed": false
      },
      "outputs": [],
      "source": [
        "print('\\n\\nFinally I want to create a defect by changing atoms #28, #29 to B and N, respectively')\nc = p.poscarUtils.poscar_modify(os.path.join(data_dir, \"POSCAR-9AGNR-311.vasp\"), verbose=False)\nc.change_elements(indexes = [28,29],\n                  newElements = ['B', 'N'],\n                  human = True) # Mind, without `human`, first is 0, second is 1, ...\nc.write(os.path.join(data_dir, 'POSCAR-AGNR-defect.vasp'))\nprint('It was saves as POSCAR-AGNR-defect.vasp')\n\n\ntmp_a = p.Poscar(os.path.join(data_dir, \"POSCAR-9AGNR-311.vasp\"))\ntmp_a.parse()\n\n# Convert positions to Cartesian coordinates for visualization\natoms_before = pv.PolyData(np.dot(tmp_a.dpos, tmp_a.lat))\natoms_before['atoms'] = tmp_a.elm\nlabels_before = [elm for elm, point in zip(tmp_a.elm, tmp_a.dpos)]\n# Define the unit cell using lattice vectors\nunit_cell_comb = list(product([0, 1], repeat=3))\nunit_cell = np.array([comb[0]*tmp_a.lat[0] + comb[1]*tmp_a.lat[1] + comb[2]*tmp_a.lat[2] for comb in unit_cell_comb])\nunit_cell_before = pv.PolyData(unit_cell)\n\ntmp_a = p.Poscar(os.path.join(data_dir, \"POSCAR-AGNR-defect.vasp\"))\ntmp_a.parse()\n\n# Convert positions to Cartesian coordinates for visualization\natoms_after = pv.PolyData(np.dot(tmp_a.dpos, tmp_a.lat))\natoms_after['atoms'] = tmp_a.elm\nlabels_after = [elm for elm, point in zip(tmp_a.elm, tmp_a.dpos)]\n# Define the unit cell using lattice vectors\nunit_cell_comb = list(product([0, 1], repeat=3))\nunit_cell = np.array([comb[0]*tmp_a.lat[0] + comb[1]*tmp_a.lat[1] + comb[2]*tmp_a.lat[2] for comb in unit_cell_comb])\nunit_cell_after = pv.PolyData(unit_cell)\n\ncreate_gif(atoms=atoms_before, labels=labels_before, unit_cell=unit_cell_before, save_file='atoms_before_defect.gif')\ncreate_gif(atoms=atoms_after, labels=labels_after, unit_cell=unit_cell_after, save_file='atoms_after_defect.gif')\n\n\nprint('')\n\nprint('Loading an AGNR with a defects in the last two entries')\na = p.poscar.Poscar(os.path.join(data_dir,\"POSCAR-AGNR-defect.vasp\"), verbose=False)\na.parse()\n\nprint('The nearest neighbors of the defects are:')\nnn=p.latticeUtils.Neighbors(a)\nprint(a.elm[-2], ':', a.Ntotal-2, '-->', nn.nn_list[-2])\nprint(a.elm[-1], ':', a.Ntotal-1, '-->', nn.nn_list[-1])"
      ]
    }
  ],
  "metadata": {
    "kernelspec": {
      "display_name": "Python 3",
      "language": "python",
      "name": "python3"
    },
    "language_info": {
      "codemirror_mode": {
        "name": "ipython",
        "version": 3
      },
      "file_extension": ".py",
      "mimetype": "text/x-python",
      "name": "python",
      "nbconvert_exporter": "python",
      "pygments_lexer": "ipython3",
      "version": "3.8.17"
    }
  },
  "nbformat": 4,
  "nbformat_minor": 0
}