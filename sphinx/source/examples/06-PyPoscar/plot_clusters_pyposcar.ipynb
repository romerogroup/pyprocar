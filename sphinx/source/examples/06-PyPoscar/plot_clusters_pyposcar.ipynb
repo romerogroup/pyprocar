{
  "cells": [
    {
      "cell_type": "markdown",
      "metadata": {},
      "source": [
        "# Visualizing Clusters in Bi2Se3 Slab {#ref_example_cluster_visualization}\r\n\r\nIn this example, we\\'ll explore the atomic clusters within a slab of\r\nBi2Se3. The slab structure is formed by quintuple layers (QL) where each\r\nQL can be regarded as a cluster. We\\'ll:\r\n\r\n1.  Parse the POSCAR file to obtain atomic positions.\r\n2.  Identify and label the atomic clusters within the slab.\r\n3.  Visualize the atomic clusters using [pyvista]{.title-ref}.\r\n\r\nLet\\'s get started!\r\n"
      ]
    },
    {
      "cell_type": "code",
      "execution_count": null,
      "metadata": {
        "collapsed": false
      },
      "outputs": [],
      "source": [
        "import os\nfrom itertools import product\nimport pyprocar.pyposcar as p\nimport numpy as np\nimport pyvista as pv\nfrom pyprocar.utils import ROOT\n\ndata_dir=os.path.join(ROOT,'data','examples','PyPoscar','05-clusters')\n# You do not need this. This is to ensure an image is rendered off screen when generating exmaple gallery.\npv.OFF_SCREEN = True"
      ]
    },
    {
      "cell_type": "markdown",
      "metadata": {},
      "source": [
        "# Utility function for creating GIF visualizations\r\n"
      ]
    },
    {
      "cell_type": "code",
      "execution_count": null,
      "metadata": {
        "collapsed": false
      },
      "outputs": [],
      "source": [
        "def create_gif(atoms, labels, unit_cell,scalars, save_file):\n    plotter = pv.Plotter()\n    title = save_file.split(os.sep)[-1].split('.')[0]\n    plotter.add_title(title)\n    plotter.add_mesh(unit_cell.delaunay_3d().extract_feature_edges(), color='black', line_width=5, render_lines_as_tubes=True)\n    plotter.add_point_labels(points=atoms.points, labels=labels, show_points=False, always_visible=True)\n    plotter.add_mesh(atoms, scalars=scalars, point_size=30, render_points_as_spheres=True, show_scalar_bar=False)\n    path = plotter.generate_orbital_path(n_points=36)\n    plotter.open_gif(os.path.join(data_dir, save_file))\n    plotter.orbit_on_path(path, write_frames=True, viewup=[0, 0, 1], step=0.05)\n    plotter.close()"
      ]
    },
    {
      "cell_type": "markdown",
      "metadata": {},
      "source": [
        "# Parsing the POSCAR and Identifying Clusters\r\n"
      ]
    },
    {
      "cell_type": "code",
      "execution_count": null,
      "metadata": {
        "collapsed": false
      },
      "outputs": [],
      "source": [
        "print('Loading a slab of Bi2Se3')\na = p.poscar.Poscar(os.path.join(data_dir,\"Bi2Se3.vasp\"), verbose=False)\na.parse()\n\nprint('It structure is formed by the so-called Quintuple layers (QL).'\n      ' Each QL can be regarded as a `cluster`')\nprint('The Quintuple layers are')\nc = p.Clusters(a)\nprint(c.clusters)\n\nclusters_mapping={}\nfor i,cluster in enumerate(c.clusters):\n    for i_atom in cluster:\n        clusters_mapping.update({i_atom:i})\nclusters_array=np.array( [clusters_mapping[i] for i in range(len(a.elm)) ] )"
      ]
    },
    {
      "cell_type": "markdown",
      "metadata": {},
      "source": [
        "# Visualizing the Clusters\r\n"
      ]
    },
    {
      "cell_type": "code",
      "execution_count": null,
      "metadata": {
        "collapsed": false
      },
      "outputs": [],
      "source": [
        "# Convert positions to Cartesian coordinates for visualization\natoms_before = pv.PolyData(np.dot(a.dpos, a.lat))\natoms_before['atoms'] = a.elm\n\natoms_before['clusters'] = clusters_array\nlabels_before = [elm for elm, point in zip(a.elm, a.dpos)]\nlabels_after=clusters_array\n# Define the unit cell using lattice vectors\nunit_cell_comb = list(product([0, 1], repeat=3))\nunit_cell = np.array([comb[0]*a.lat[0] + comb[1]*a.lat[1] + comb[2]*a.lat[2] for comb in unit_cell_comb])\nunit_cell_before = pv.PolyData(unit_cell)\n\n\ncreate_gif(atoms=atoms_before, labels=labels_before, unit_cell=unit_cell_before, scalars='atoms', save_file='atoms_before_cluster.gif')\ncreate_gif(atoms=atoms_before, labels=labels_after, unit_cell=unit_cell_before, scalars='clusters', save_file='atoms_after_cluster.gif')"
      ]
    }
  ],
  "metadata": {
    "kernelspec": {
      "display_name": "Python 3",
      "language": "python",
      "name": "python3"
    },
    "language_info": {
      "codemirror_mode": {
        "name": "ipython",
        "version": 3
      },
      "file_extension": ".py",
      "mimetype": "text/x-python",
      "name": "python",
      "nbconvert_exporter": "python",
      "pygments_lexer": "ipython3",
      "version": "3.8.17"
    }
  },
  "nbformat": 4,
  "nbformat_minor": 0
}