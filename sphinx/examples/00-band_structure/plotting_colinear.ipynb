{
  "cells": [
    {
      "cell_type": "code",
      "execution_count": null,
      "metadata": {
        "collapsed": false
      },
      "outputs": [],
      "source": [
        "%matplotlib inline"
      ]
    },
    {
      "cell_type": "markdown",
      "metadata": {},
      "source": [
        "# Plotting band structure {#ref_plotting_colinear_bands}\r\n\r\nPlotting band structure example.\r\n\r\nFirst download the example files with the code below. Then replace\r\ndata_dir below.\r\n\r\n``` {. caption=\"Downloading example\"}\r\ndata_dir = pyprocar.download_example(save_dir='', \r\n                            material='Fe',\r\n                            code='vasp', \r\n                            spin_calc_type='non-spin-polarized',\r\n                            calc_type='bands')\r\n```\r\n"
      ]
    },
    {
      "cell_type": "markdown",
      "metadata": {},
      "source": [
        "importing pyprocar and specifying local data_dir\r\n"
      ]
    },
    {
      "cell_type": "code",
      "execution_count": null,
      "metadata": {
        "collapsed": false
      },
      "outputs": [],
      "source": [
        "import os\nimport pyprocar\n\n\nproject_dir = os.path.dirname(os.path.dirname(os.getcwd()))\ndata_dir = f\"{project_dir}{os.sep}data{os.sep}examples{os.sep}Fe{os.sep}vasp{os.sep}non-spin-polarized{os.sep}bands\""
      ]
    },
    {
      "cell_type": "markdown",
      "metadata": {},
      "source": [
        "# Plain mode\r\n"
      ]
    },
    {
      "cell_type": "code",
      "execution_count": null,
      "metadata": {
        "collapsed": false
      },
      "outputs": [],
      "source": [
        "pyprocar.bandsplot(\n                code='vasp', \n                mode='plain',\n                dirname=data_dir)"
      ]
    },
    {
      "cell_type": "markdown",
      "metadata": {},
      "source": [
        "# Parametric mode\r\n\r\nFor details on the meaning of the indices of the atomic projection\r\nplease refer to the user guide :ref:\\'atomic_projections\\'\r\n"
      ]
    },
    {
      "cell_type": "code",
      "execution_count": null,
      "metadata": {
        "collapsed": false
      },
      "outputs": [],
      "source": [
        "atoms=[0]\norbitals=[4,5,6,7,8]\nspins=[0]\n\npyprocar.bandsplot(\n                code='vasp', \n                mode='parametric',\n                atoms=atoms,\n                orbitals=orbitals,\n                spins=spins,\n                vmin=0,\n                vmax=1,\n                dirname=data_dir)"
      ]
    },
    {
      "cell_type": "markdown",
      "metadata": {},
      "source": [
        "# parametric_linemode\r\n\r\nFor details on the meaning of the indices of the atomic projection\r\nplease refer to the user guide :ref:\\'atomic_projections\\'\r\n"
      ]
    },
    {
      "cell_type": "code",
      "execution_count": null,
      "metadata": {
        "collapsed": false
      },
      "outputs": [],
      "source": [
        "atoms=[0]\norbitals=[4,5,6,7,8]\nspins=[0]\n\npyprocar.bandsplot(\n                code='vasp', \n                mode='parametric',\n                atoms=atoms,\n                orbitals=orbitals,\n                spins=spins,\n                vmin=0,\n                vmax=1,\n                dirname=data_dir)"
      ]
    },
    {
      "cell_type": "markdown",
      "metadata": {},
      "source": [
        "# Scatter mode\r\n"
      ]
    },
    {
      "cell_type": "code",
      "execution_count": null,
      "metadata": {
        "collapsed": false
      },
      "outputs": [],
      "source": [
        "atoms=[0]\norbitals=[4,5,6,7,8]\nspins=[0]\n\npyprocar.bandsplot(\n                code='vasp', \n                mode='scatter',\n                atoms=atoms,\n                orbitals=orbitals,\n                spins=spins,\n                vmin=0,\n                vmax=1,\n                dirname=data_dir)"
      ]
    },
    {
      "cell_type": "markdown",
      "metadata": {},
      "source": [
        "# overlay_species mode\r\n"
      ]
    },
    {
      "cell_type": "code",
      "execution_count": null,
      "metadata": {
        "collapsed": false
      },
      "outputs": [],
      "source": [
        "orbitals=[4,5,6,7,8]\nspins=[0]\n\npyprocar.bandsplot(\n                code='vasp', \n                mode='overlay_species',\n                orbitals=orbitals,\n                spins=spins,\n                dirname=data_dir)"
      ]
    },
    {
      "cell_type": "markdown",
      "metadata": {},
      "source": [
        "# overlay_orbtials mode\r\n"
      ]
    },
    {
      "cell_type": "code",
      "execution_count": null,
      "metadata": {
        "collapsed": false
      },
      "outputs": [],
      "source": [
        "atoms=[0]\nspins=[0]\npyprocar.bandsplot(\n                code='vasp', \n                mode='overlay_orbitals',\n                atoms=atoms,\n                spins=spins,\n                dirname=data_dir)"
      ]
    },
    {
      "cell_type": "markdown",
      "metadata": {},
      "source": [
        "# overlay mode\r\n"
      ]
    },
    {
      "cell_type": "code",
      "execution_count": null,
      "metadata": {
        "collapsed": false
      },
      "outputs": [],
      "source": [
        "items={'Fe':[4,5,6,7,8]}\npyprocar.bandsplot(\n                code='vasp', \n                mode='overlay',\n                items=items,\n                dirname=data_dir)"
      ]
    },
    {
      "cell_type": "markdown",
      "metadata": {},
      "source": [
        "# overlay mode by orbital names\r\n"
      ]
    },
    {
      "cell_type": "code",
      "execution_count": null,
      "metadata": {
        "collapsed": false
      },
      "outputs": [],
      "source": [
        "items={'Fe':['p','d']}\npyprocar.bandsplot(\n                code='vasp', \n                mode='overlay',\n                items=items,\n                dirname=data_dir)"
      ]
    }
  ],
  "metadata": {
    "kernelspec": {
      "display_name": "Python 3",
      "language": "python",
      "name": "python3"
    },
    "language_info": {
      "codemirror_mode": {
        "name": "ipython",
        "version": 3
      },
      "file_extension": ".py",
      "mimetype": "text/x-python",
      "name": "python",
      "nbconvert_exporter": "python",
      "pygments_lexer": "ipython3",
      "version": "3.8.0"
    }
  },
  "nbformat": 4,
  "nbformat_minor": 0
}