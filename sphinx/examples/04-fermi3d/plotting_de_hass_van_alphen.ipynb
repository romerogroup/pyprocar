{
  "cells": [
    {
      "cell_type": "code",
      "execution_count": null,
      "metadata": {
        "collapsed": false
      },
      "outputs": [],
      "source": [
        "%matplotlib inline"
      ]
    },
    {
      "cell_type": "markdown",
      "metadata": {},
      "source": [
        "# Showing how to get van alphen fequencies from the fermi surface {#ref_plotting_de_hass_van_alphen}\r\n\r\nVan alphen fequencies example. De has van alphen frequencies (F) in\r\nterms of extremal fermi surface areas (A) is given below. To compare the\r\ntheoretical freuqencies we will compare with the results taken from the\r\nexperimental paper \\\"The Fermi surfaces of copper, silver and gold. I.\r\nThe de Haas-Van alphen\r\neffect\\\"(<https://doi.org/10.1098/rsta.1962.0011>).\r\n\r\n$$F = \\frac{ c \\hbar A }{ 2 \\pi e  }   !(cgs)$$$$e = 4.768e^{-10} !statcoulombs$$$$c = 3.0e^{10} !cm/s$$$$\\hbar = 1.0546e^{-27} !erg*s$$\r\n\r\nFirst download the example files with the code below. Then replace\r\ndata_dir below.\r\n\r\n``` {. caption=\"Downloading example\"}\r\ndata_dir = pyprocar.download_example(save_dir='', \r\n                            material='Au',\r\n                            code='vasp', \r\n                            spin_calc_type='non-spin-polarized',\r\n                            calc_type='fermi')\r\n```\r\n"
      ]
    },
    {
      "cell_type": "code",
      "execution_count": null,
      "metadata": {
        "collapsed": false
      },
      "outputs": [],
      "source": [
        "# sphinx_gallery_thumbnail_number = 1"
      ]
    },
    {
      "cell_type": "code",
      "execution_count": null,
      "metadata": {
        "collapsed": false
      },
      "outputs": [],
      "source": [
        "import pyvista\n# You do not need this. This is to ensure an image is rendered off screen when generating exmaple gallery.\npyvista.OFF_SCREEN = True"
      ]
    },
    {
      "cell_type": "markdown",
      "metadata": {},
      "source": [
        "importing pyprocar and specifying local data_dir\r\n"
      ]
    },
    {
      "cell_type": "code",
      "execution_count": null,
      "metadata": {
        "collapsed": false
      },
      "outputs": [],
      "source": [
        "import os\nimport pyprocar\n\nproject_dir = os.path.dirname(os.path.dirname(os.getcwd()))\ndata_dir = f\"{project_dir}{os.sep}data{os.sep}examples{os.sep}Au{os.sep}vasp{os.sep}non-spin-polarized{os.sep}fermi\"\n\n\n# First create the FermiHandler object, this loads the data into memory. Then you can call class methods to plot\nfermiHandler = pyprocar.FermiHandler(\n                                    code=\"vasp\",\n                                    dirname=data_dir,\n                                    apply_symmetry=True)"
      ]
    },
    {
      "cell_type": "markdown",
      "metadata": {},
      "source": [
        "# Maximal cross sectional area along the (0,0,1)\r\n"
      ]
    },
    {
      "cell_type": "code",
      "execution_count": null,
      "metadata": {
        "collapsed": false
      },
      "outputs": [],
      "source": [
        "fermiHandler.plot_fermi_cross_section_box_widget(\n                            show_cross_section_area=True,\n                            bands=[5],\n                            transparent_mesh=True,\n                            slice_normal=(0,0,1),\n                            slice_origin=(0,0,0),\n                            line_width=5.0,\n                            mode=\"parametric\",\n                            show=True)"
      ]
    },
    {
      "cell_type": "markdown",
      "metadata": {},
      "source": [
        "In the above figure we can see the cross section area is\r\n$A = 4.1586 Ang^{-2} = 4.1586e^{16} cm^{-2} (cgs)$.\r\n\r\n$F = \\frac{ c \\hbar A }{ 2 \\pi e  } = 4.365e^8 G$\r\n\r\n$F_{exp} = 4.50e^7 G$\r\n"
      ]
    },
    {
      "cell_type": "markdown",
      "metadata": {},
      "source": [
        "# Minimal cross sectional area along the (0,0,1)\r\n"
      ]
    },
    {
      "cell_type": "code",
      "execution_count": null,
      "metadata": {
        "collapsed": false
      },
      "outputs": [],
      "source": [
        "fermiHandler.plot_fermi_cross_section_box_widget(\n                                show_cross_section_area=True,\n                                bands=[5],\n                                transparent_mesh=True,\n                                slice_normal=(0,0,1),\n                                slice_origin=(0,0,1.25),\n                                line_width=5.0,\n                                mode=\"parametric\",\n                                show=True,)"
      ]
    },
    {
      "cell_type": "markdown",
      "metadata": {},
      "source": [
        "In the above figure we can see the cross section area is\r\n$A = 0.1596 Ang^{-2} = 0.1596e^{16} cm^{-2} (cgs)$.\r\n\r\n$F = \\frac{ c \\hbar A }{ 2 \\pi e  } = 1.68e^7 G$\r\n\r\n$F_{exp} = 1.50e^7 G$\r\n"
      ]
    },
    {
      "cell_type": "markdown",
      "metadata": {},
      "source": [
        "# Extremal cross sectional area along the (0,1,1)\r\n"
      ]
    },
    {
      "cell_type": "code",
      "execution_count": null,
      "metadata": {
        "collapsed": false
      },
      "outputs": [],
      "source": [
        "fermiHandler.plot_fermi_cross_section_box_widget(\n                                show_cross_section_area=True,\n                                bands=[5],\n                                transparent_mesh=True,\n                                slice_normal=(0,1,1),\n                                slice_origin=(0,0,0),\n                                line_width=5.0,\n                                mode=\"parametric\",\n                                show=True,)"
      ]
    },
    {
      "cell_type": "markdown",
      "metadata": {},
      "source": [
        "In the above figure we can see the cross section area is\r\n$A = 4.3956 Ang^{-2} = 4.3956e^{16} cm^{-2} (cgs)$.\r\n\r\n$F = \\frac{ c \\hbar A }{ 2 \\pi e  } = 4.61e^8 G$\r\n\r\n$F_{exp} = 4.85e^8 G$\r\n"
      ]
    }
  ],
  "metadata": {
    "kernelspec": {
      "display_name": "Python 3",
      "language": "python",
      "name": "python3"
    },
    "language_info": {
      "codemirror_mode": {
        "name": "ipython",
        "version": 3
      },
      "file_extension": ".py",
      "mimetype": "text/x-python",
      "name": "python",
      "nbconvert_exporter": "python",
      "pygments_lexer": "ipython3",
      "version": "3.8.0"
    }
  },
  "nbformat": 4,
  "nbformat_minor": 0
}