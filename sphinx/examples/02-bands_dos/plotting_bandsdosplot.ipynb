{
  "cells": [
    {
      "cell_type": "code",
      "execution_count": null,
      "metadata": {
        "collapsed": false
      },
      "outputs": [],
      "source": [
        "%matplotlib inline"
      ]
    },
    {
      "cell_type": "markdown",
      "metadata": {},
      "source": [
        "# Plotting bandsdosplot {#ref_plotting_bandsdosplot}\r\n\r\nPlotting bandsdosplot example.\r\n\r\nFirst download the example files with the code below. Then replace\r\ndata_dir below.\r\n\r\n``` {. caption=\"Downloading example\"}\r\nbands_dir = pyprocar.download_example(save_dir='', \r\n                             material='Fe',\r\n                             code='vasp', \r\n                             spin_calc_type='non-spin-polarized',\r\n                             calc_type='bands')\r\n\r\ndos_dir = pyprocar.download_example(save_dir='', \r\n                             material='Fe',\r\n                             code='vasp', \r\n                             spin_calc_type='non-spin-polarized',\r\n                             calc_type='dos')\r\n```\r\n"
      ]
    },
    {
      "cell_type": "markdown",
      "metadata": {},
      "source": [
        "importing pyprocar and specifying local data_dir\r\n"
      ]
    },
    {
      "cell_type": "code",
      "execution_count": null,
      "metadata": {
        "collapsed": false
      },
      "outputs": [],
      "source": [
        "import os\nimport pyprocar\n\n\nproject_dir = os.path.dirname(os.path.dirname(os.getcwd()))\nbands_dir = f\"{project_dir}{os.sep}data{os.sep}examples{os.sep}Fe{os.sep}vasp{os.sep}non-spin-polarized{os.sep}bands\"\ndos_dir = f\"{project_dir}{os.sep}data{os.sep}examples{os.sep}Fe{os.sep}vasp{os.sep}non-spin-polarized{os.sep}dos\""
      ]
    },
    {
      "cell_type": "markdown",
      "metadata": {},
      "source": [
        "# Plain mode\r\n\r\nThe keywords that works for bandsplot and dosplot will work in\r\nbandsdosplot. These keyword arguments can be set in bands_settings and\r\ndos_settings as done below.\r\n"
      ]
    },
    {
      "cell_type": "code",
      "execution_count": null,
      "metadata": {
        "collapsed": false
      },
      "outputs": [],
      "source": [
        "bands_settings = {'mode':'plain',\n                'dirname': bands_dir}\n\ndos_settings = {'mode':'plain',\n                'dirname': dos_dir}\n\npyprocar.bandsdosplot(code='vasp',\n                bands_settings=bands_settings,\n                dos_settings=dos_settings,\n                )"
      ]
    }
  ],
  "metadata": {
    "kernelspec": {
      "display_name": "Python 3",
      "language": "python",
      "name": "python3"
    },
    "language_info": {
      "codemirror_mode": {
        "name": "ipython",
        "version": 3
      },
      "file_extension": ".py",
      "mimetype": "text/x-python",
      "name": "python",
      "nbconvert_exporter": "python",
      "pygments_lexer": "ipython3",
      "version": "3.8.0"
    }
  },
  "nbformat": 4,
  "nbformat_minor": 0
}